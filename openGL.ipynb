{
 "cells": [
  {
   "cell_type": "code",
   "execution_count": null,
   "metadata": {},
   "outputs": [],
   "source": [
    "#导入库\n",
    "import pygame  as pg\n",
    "from pygame.locals import *\n",
    "from OpenGL.GL import *\n",
    "from OpenGL.GLU import *\n",
    "\n",
    "cubeVertices=((1,1,1),(1,1,-1),(1,-1,-1),(1,-1,1),(-1,1,1),(-1,-1,-1),(-1,-1,1),(-1,1,-1))\n",
    "cubeEdges = ((0,1),(0,3),(0,4),(1,2),(1,7),(2,5),(2,3),(3,6),(4,6),(4,7),(5,6),(5,7))\n",
    "cubeQuads = ((0,3,6,4),(2,5,6,3),(1,2,5,7),(1,0,4,7),(7,4,6,5),(2,3,0,1))\n",
    "def wireCube():\n",
    "    glBegin(GL_LINES)\n",
    "    for cubeEdge in cubeEdges:\n",
    "        for cubeVertex in cubeEdge:\n",
    "            glVertex3fv(cubeVertices[cubeVertex])\n",
    "    glEnd()\n",
    "def solidCube():\n",
    "    glBegin(GL_QUADS)\n",
    "    for cubeQuad in cubeQuads:\n",
    "        for cubeVertex in cubeQuad:\n",
    "            glVertex3fv(cubeVertices[cubeVertex])\n",
    "    glEnd()\n",
    "    \n",
    "def main():\n",
    "    pg.init()\n",
    "    display = (1680, 1050)\n",
    "    pg.display.set_mode(display, DOUBLEBUF | OPENGL)\n",
    "\n",
    "    gluPerspective(45, (display[0] / display[1]), 0.1, 50.0)\n",
    "\n",
    "    glTranslatef(0.0, 0.0, -5)\n",
    "\n",
    "    while True:\n",
    "        for event in pg.event.get():\n",
    "            if event.type == pg.QUIT:\n",
    "                pg.quit()\n",
    "                quit()\n",
    "\n",
    "        glRotatef(1, 1, 1, 1)\n",
    "        glClear(GL_COLOR_BUFFER_BIT | GL_DEPTH_BUFFER_BIT)\n",
    "        solidCube()\n",
    "        \n",
    "        # wireCube()\n",
    "        pg.display.flip()\n",
    "        pg.time.wait(10)\n",
    "\n",
    "if __name__ == \"__main__\":\n",
    "    main()"
   ]
  }
 ],
 "metadata": {
  "kernelspec": {
   "display_name": "Python 3.10.8 64-bit",
   "language": "python",
   "name": "python3"
  },
  "language_info": {
   "codemirror_mode": {
    "name": "ipython",
    "version": 3
   },
   "file_extension": ".py",
   "mimetype": "text/x-python",
   "name": "python",
   "nbconvert_exporter": "python",
   "pygments_lexer": "ipython3",
   "version": "3.10.8"
  },
  "orig_nbformat": 4,
  "vscode": {
   "interpreter": {
    "hash": "fafd8baaa4fcb8e2615a24d343c939b8c83a87567ee02d14f56d29b1348ced23"
   }
  }
 },
 "nbformat": 4,
 "nbformat_minor": 2
}
