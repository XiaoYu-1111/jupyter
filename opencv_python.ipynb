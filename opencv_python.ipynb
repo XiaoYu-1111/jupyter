{
 "cells": [
  {
   "cell_type": "markdown",
   "metadata": {},
   "source": [
    "opencv_python//图像处理部分\n",
    "---"
   ]
  },
  {
   "cell_type": "markdown",
   "metadata": {},
   "source": [
    "读取照片文件，获得长宽"
   ]
  },
  {
   "cell_type": "markdown",
   "metadata": {},
   "source": [
    "cv显示图像需要设置窗口和停留时间"
   ]
  },
  {
   "cell_type": "code",
   "execution_count": null,
   "metadata": {},
   "outputs": [],
   "source": [
    "import cv2 as cv\n",
    "print(cv.getVersionString())\n",
    "img_first= cv.imread(\"D:/code/Python Code/data/picture/leaf.jpg\",cv.IMREAD_COLOR)\n",
    "y, x, z = img_first.shape[:3]\n",
    "print(x,y,z)#输出图像的xyz维度\n",
    "#cv.imshow('img',img)\n",
    "width_new=int(x/2);\n",
    "height_new=int(y/2);\n",
    "print(width_new,height_new)"
   ]
  },
  {
   "cell_type": "markdown",
   "metadata": {},
   "source": [
    "cv按照新的大小显示.imshow()"
   ]
  },
  {
   "cell_type": "code",
   "execution_count": null,
   "metadata": {},
   "outputs": [],
   "source": [
    "cv.namedWindow('image_leaf', cv.WINDOW_NORMAL)#设置窗口\n",
    "cv.resizeWindow('image_leaf',width_new, height_new)#resize大小\n",
    "cv.imshow('image_leaf',img_first)\n",
    "cv.waitKey(0)#停留状态3000ms/0代表了任意键退出\n",
    "cv.destroyAllWindows()"
   ]
  },
  {
   "cell_type": "markdown",
   "metadata": {},
   "source": [
    "修正plt显示图像色彩通道问题"
   ]
  },
  {
   "cell_type": "code",
   "execution_count": null,
   "metadata": {},
   "outputs": [],
   "source": [
    "import matplotlib.pyplot as plt\n",
    "%config InlineBackend.figure_format='retina'\n",
    "\n",
    "fig,axs=plt.subplots(2,1,figsize=(10,6))\n",
    "\n",
    "img= cv.imread(\"D:/code/Python Code/data/picture/leaf.jpg\")\n",
    "axs[0].set_xticks([]), axs[0].set_yticks([])  # 隐藏x、y轴\n",
    "axs[0].imshow(img)\n",
    "\n",
    "b,g,r = cv.split(img)          #分别提取B、G、R通道\n",
    "img_new = cv.merge([r,g,b])   #重新组合为R、G、B\n",
    "\n",
    "axs[1].imshow(img_new)\n",
    "axs[1].set_xticks([]), axs[1].set_yticks([])  # 隐藏x、y轴\n",
    "plt.show()\n",
    "# 使用cv2.imread()读取图像时，默认彩色图像的三通道顺序为B、G、R，这与我们所熟知的RGB中的R通道和B通道正好互换位置了。\n",
    "# 而使用plt.imshow()函数却默认显示图像的通道顺序为R、G、B，导致图像出现色差发蓝。"
   ]
  },
  {
   "cell_type": "markdown",
   "metadata": {},
   "source": [
    "plt显示灰度图像"
   ]
  },
  {
   "cell_type": "code",
   "execution_count": null,
   "metadata": {},
   "outputs": [],
   "source": [
    "img= cv.imread(\"D:/code/Python Code/data/picture/leaf.jpg\")\n",
    "b,g,r = cv.split(img)          #分别提取B、G、R通道\n",
    "img_new2 = cv.merge([r,g,b])   #重新组合为R、G、B\n",
    "fig,axs=plt.subplots(3,1,figsize=(20,10))\n",
    "axs[0].imshow(img_new2[:,:,0], cmap='gray',interpolation='none')\n",
    "axs[1].imshow(img_new2[:,:,1], cmap='gray',interpolation='none')\n",
    "axs[2].imshow(img_new2[:,:,2], cmap='gray',interpolation='none')\n",
    "plt.show()"
   ]
  },
  {
   "cell_type": "markdown",
   "metadata": {},
   "source": [
    "cv2显示灰度图"
   ]
  },
  {
   "cell_type": "code",
   "execution_count": null,
   "metadata": {},
   "outputs": [],
   "source": [
    "img= cv.imread(\"D:/code/Python Code/data/picture/leaf.jpg\")#载入树叶照片\n",
    "imGray = cv.cvtColor(img, cv.COLOR_BGR2GRAY)#cv2读取灰度图\n",
    "cv.namedWindow('image_gr', cv.WINDOW_NORMAL)#设置窗口\n",
    "cv.resizeWindow('image_gr',width_new, height_new)#resize大小\n",
    "cv.imshow(\"image_gr\", imGray)\n",
    "cv.waitKey(3000)#停留状态\n",
    "cv.destroyAllWindows()"
   ]
  },
  {
   "cell_type": "markdown",
   "metadata": {},
   "source": [
    "获取图片像素点的数值,bgr通道012"
   ]
  },
  {
   "cell_type": "code",
   "execution_count": null,
   "metadata": {},
   "outputs": [],
   "source": [
    "px=img[10,10]\n",
    "print(px)#输出10*10位置的像素点值\n",
    "blue=img[10,10,0]\n",
    "green=img[10,10,1]\n",
    "red=img[10,10,2]\n",
    "# print(blue,green,red)\n",
    "# print('blue:',img[:,:,0])\n",
    "# print('green:',img[:,:,1])\n",
    "# print('red:',img[:,:,2])"
   ]
  },
  {
   "cell_type": "markdown",
   "metadata": {},
   "source": [
    "scipy中misc图/rgb/plt原色显示"
   ]
  },
  {
   "cell_type": "code",
   "execution_count": null,
   "metadata": {},
   "outputs": [],
   "source": [
    "import scipy.misc as misc\n",
    "#display(misc.face())\n",
    "face = misc.face()\n",
    "display(face.shape)\n",
    "plt.imshow(face)\n",
    "plt.show()"
   ]
  },
  {
   "cell_type": "markdown",
   "metadata": {},
   "source": [
    "scipy中图像plt灰度显示"
   ]
  },
  {
   "cell_type": "code",
   "execution_count": null,
   "metadata": {},
   "outputs": [],
   "source": [
    "print('热身:图片灰色处理:gray很重要!')\n",
    "face_g = misc.face(gray=True)\n",
    "display(face_g.shape)\n",
    "plt.xticks([]), plt.yticks([])  # 隐藏x、y轴\n",
    "plt.imshow(face_g,cmap='gray')\n",
    "plt.show()"
   ]
  },
  {
   "cell_type": "markdown",
   "metadata": {},
   "source": [
    "scipy中图像cv原色显示/灰度显示\n"
   ]
  },
  {
   "cell_type": "code",
   "execution_count": null,
   "metadata": {},
   "outputs": [],
   "source": [
    "img= misc.face()\n",
    "y, x, z = img.shape[:3]\n",
    "print(x,y,z)\n",
    "print(img.shape)#height/width/layer\n",
    "cv.namedWindow('image', cv.WINDOW_NORMAL)#设置窗口\n",
    "cv.resizeWindow('image',512,384)#resize大小\n",
    "b,g,r = cv.split(img)          #分别提取B、G、R通道\n",
    "img_new = cv.merge([r,g,b])   #重新组合为R、G、B\n",
    "cv.imshow('image',img_new)\n",
    "\n",
    "imGray = cv.cvtColor(img, cv.COLOR_BGR2GRAY)#cv2读取灰度图\n",
    "cv.namedWindow('img_gray', cv.WINDOW_NORMAL)#设置窗口\n",
    "cv.resizeWindow('img_gray',512, 384)#resize大小\n",
    "cv.imshow(\"img_gray\", imGray)\n",
    "\n",
    "cv.waitKey(5000)#停留状态5000ms/0为无限长时间\n",
    "cv.destroyAllWindows()"
   ]
  },
  {
   "cell_type": "markdown",
   "metadata": {},
   "source": [
    "CV中另一种读取图片方法"
   ]
  },
  {
   "cell_type": "code",
   "execution_count": null,
   "metadata": {},
   "outputs": [],
   "source": [
    "img_color=cv.imread(\"D:/code/Python Code/data/picture/leaf.jpg\",cv.IMREAD_COLOR)\n",
    "img_gray=cv.imread(\"D:/code/Python Code/data/picture/leaf.jpg\",cv.IMREAD_GRAYSCALE)\n",
    "\n",
    "cv.namedWindow('image_color', cv.WINDOW_NORMAL)#设置窗口\n",
    "cv.resizeWindow('image_color',512,384)#resize大小\n",
    "cv.imshow(\"image_color\", img_color)\n",
    "\n",
    "cv.namedWindow('image_gray', cv.WINDOW_NORMAL)#设置窗口\n",
    "cv.resizeWindow('image_gray',512, 384)#resize大小\n",
    "cv.imshow(\"image_gray\", img_gray)\n",
    "\n",
    "cv.waitKey(3000)#停留状态5000ms/0为无限长时间\n",
    "cv.destroyAllWindows()"
   ]
  },
  {
   "cell_type": "markdown",
   "metadata": {},
   "source": [
    "Cv写入图片"
   ]
  },
  {
   "cell_type": "code",
   "execution_count": null,
   "metadata": {},
   "outputs": [],
   "source": [
    "cv.imwrite('D:/code/Python Code/data/picture/new_image.png',img_color)#路径+文件内容"
   ]
  },
  {
   "cell_type": "markdown",
   "metadata": {},
   "source": [
    "cv2读取视频"
   ]
  },
  {
   "cell_type": "code",
   "execution_count": null,
   "metadata": {},
   "outputs": [],
   "source": [
    "# sourcery skip: avoid-builtin-shadow\n",
    "import cv2 as cv\n",
    "vc = cv.VideoCapture('E:/萧羽的文件/VIDEO视频文件/2020年10月东极岛视频/1.mp4')\n",
    "# 检查是否打开正确\n",
    "if vc.isOpened(): \n",
    "    open, frame = vc.read()\n",
    "else:\n",
    "    oepn = False\n",
    "while open:\n",
    "    ret, frame = vc.read()\n",
    "    if frame is None:\n",
    "        break\n",
    "    if ret == True:\n",
    "        #gray = cv.cvtColor(frame,  cv.COLOR_BGR2GRAY)\n",
    "        gray = cv.cvtColor(frame,  cv.IMREAD_COLOR)#原彩读取\n",
    "        cv.namedWindow('video_test', cv.WINDOW_NORMAL)#设置窗口\n",
    "        cv.resizeWindow('video_test',600, 400)#resize大小\n",
    "        cv.imshow('video_test', gray)\n",
    "        if cv.waitKey(1) & 0xFF == ord('q'):\n",
    "            break\n",
    "    else:\n",
    "        vc.release()\n",
    "cv.destroyAllWindows()\n"
   ]
  },
  {
   "cell_type": "markdown",
   "metadata": {},
   "source": [
    "对图片进行截取"
   ]
  },
  {
   "cell_type": "code",
   "execution_count": null,
   "metadata": {},
   "outputs": [],
   "source": [
    "img=cv.imread('D:/code/Python Code/data/picture/new_image.png')\n",
    "new_pic=img[0:50,0:200] #与数组一样进行截取\n",
    "cv.namedWindow('new_pic', cv.WINDOW_NORMAL)#设置窗口\n",
    "cv.imshow('new_pic',new_pic)\n",
    "cv.waitKey(5000)#停留状态5000ms\n",
    "cv.destroyAllWindows()"
   ]
  },
  {
   "cell_type": "markdown",
   "metadata": {},
   "source": [
    "cv对图片颜色通道提取，重新混合导致图层混乱"
   ]
  },
  {
   "cell_type": "code",
   "execution_count": null,
   "metadata": {},
   "outputs": [],
   "source": [
    "b,g,r=cv.split(img)#cv默认bgr\n",
    "img=cv.merge((b,g,r))\n",
    "cv.namedWindow('new_pic2', cv.WINDOW_NORMAL)#设置窗口\n",
    "cv.imshow('new_pic2',img)\n",
    "cv.waitKey(5000)#停留状态5000ms\n",
    "cv.destroyAllWindows()"
   ]
  },
  {
   "cell_type": "markdown",
   "metadata": {},
   "source": [
    "cv进行rgb通道混合"
   ]
  },
  {
   "cell_type": "code",
   "execution_count": null,
   "metadata": {},
   "outputs": [],
   "source": [
    "img=cv.merge((r,g,b))\n",
    "cv.namedWindow('new_pic2', cv.WINDOW_NORMAL)#设置窗口\n",
    "cv.imshow('new_pic2',img)\n",
    "cv.waitKey(5000)#停留状态5000ms\n",
    "cv.destroyAllWindows()"
   ]
  },
  {
   "cell_type": "markdown",
   "metadata": {},
   "source": [
    "cv将图像边缘扩充的五种方法"
   ]
  },
  {
   "cell_type": "code",
   "execution_count": null,
   "metadata": {},
   "outputs": [],
   "source": [
    "top_size,bottom_size,left_size,right_size = (50,50,50,50)\n",
    "\n",
    "replicate = cv.copyMakeBorder(img, top_size, bottom_size, left_size, right_size, borderType=cv.BORDER_REPLICATE)\n",
    "reflect = cv.copyMakeBorder(img, top_size, bottom_size, left_size, right_size,cv.BORDER_REFLECT)\n",
    "reflect101 = cv.copyMakeBorder(img, top_size, bottom_size, left_size, right_size, cv.BORDER_REFLECT_101)\n",
    "wrap = cv.copyMakeBorder(img, top_size, bottom_size, left_size, right_size, cv.BORDER_WRAP)\n",
    "constant = cv.copyMakeBorder(img, top_size, bottom_size, left_size, right_size,cv.BORDER_CONSTANT, value=255)\n",
    "plt.subplot(231), plt.imshow(img, 'gray'), plt.title('ORIGINAL')\n",
    "plt.subplot(232), plt.imshow(replicate, 'gray'), plt.title('REPLICATE')#复制法\n",
    "plt.subplot(233), plt.imshow(reflect, 'gray'), plt.title('REFLECT')#反射法\n",
    "plt.subplot(234), plt.imshow(reflect101, 'gray'), plt.title('REFLECT_101')\n",
    "plt.subplot(235), plt.imshow(wrap, 'gray'), plt.title('WRAP')#外包装法\n",
    "plt.subplot(236), plt.imshow(constant, 'gray'), plt.title('CONSTANT')#常量值填充\n",
    "#\n",
    "plt.show()"
   ]
  },
  {
   "cell_type": "markdown",
   "metadata": {},
   "source": [
    "cv进行图像融合"
   ]
  },
  {
   "cell_type": "code",
   "execution_count": null,
   "metadata": {},
   "outputs": [],
   "source": [
    "img_basket=cv.imread('D:/code/Python Code/data/picture/basket.jpg',cv.IMREAD_COLOR)\n",
    "img_leaf=cv.imread('D:/code/Python Code/data/picture/leaf.jpg',cv.IMREAD_COLOR)\n",
    "print(img_basket.shape)\n",
    "img_basket = cv.resize(img_basket, (600, 400))#将两个图片改为同样大小\n",
    "img_leaf = cv.resize(img_leaf, (600, 400))#将两个图片改为同样大小\n",
    "res = cv.addWeighted(img_leaf, 0.4, img_basket, 0.8, 0)#猫占0.4权重，狗占0.6权重\n",
    "\n",
    "cv.namedWindow('image_res', cv.WINDOW_NORMAL)#设置窗口\n",
    "cv.resizeWindow('image_res',600, 400)#resize大小\n",
    "cv.imshow(\"image_res\", res)\n",
    "\n",
    "cv.waitKey(2000)#停留状态5000ms/0为无限长时间\n",
    "cv.destroyAllWindows()"
   ]
  },
  {
   "cell_type": "markdown",
   "metadata": {},
   "source": [
    "Cv中BGR2HSV色彩空间读取"
   ]
  },
  {
   "cell_type": "code",
   "execution_count": null,
   "metadata": {},
   "outputs": [],
   "source": [
    "hsv=cv.cvtColor(img_basket,cv.COLOR_BGR2HSV)\n",
    "cv.imshow(\"image_hsv\", hsv)\n",
    "cv.waitKey(2000)#停留状态5000ms/0为无限长时间\n",
    "cv.destroyAllWindows()"
   ]
  },
  {
   "cell_type": "markdown",
   "metadata": {},
   "source": [
    "ret, dst = cv2.threshold(src, thresh, maxval, type)\n",
    "src： 输入图，只能输入单通道图像，通常来说为灰度图\n",
    "dst： 输出图\n",
    "thresh： 阈值\n",
    "maxval： 当像素值超过了阈值（或者小于阈值，根据type来决定），所赋予的值"
   ]
  },
  {
   "cell_type": "code",
   "execution_count": null,
   "metadata": {},
   "outputs": [],
   "source": [
    "img_basket=cv.imread('D:/code/Python Code/data/picture/basket.jpg')\n",
    "\n",
    "# b,g,r = cv.split(img_basket)          #分别提取B、G、R通道\n",
    "# img_basket = cv.merge([r,g,b])   #重新组合为R、G、B\n",
    "\n",
    "img_basket= cv.cvtColor(img_basket, cv.COLOR_BGR2GRAY)#cv2读取灰度图\n",
    "\n",
    "ret, thresh1 = cv.threshold(img_basket, 127, 255, cv.THRESH_BINARY)\n",
    "ret, thresh2 = cv.threshold(img_basket, 127, 255, cv.THRESH_BINARY_INV)\n",
    "ret, thresh3 = cv.threshold(img_basket, 127, 255, cv.THRESH_TRUNC)\n",
    "ret, thresh4 = cv.threshold(img_basket, 127, 255, cv.THRESH_TOZERO)\n",
    "ret, thresh5 = cv.threshold(img_basket, 127, 255, cv.THRESH_TOZERO_INV)\n",
    "\n",
    "titles = ['Original Image', 'BINARY', 'BINARY_INV', 'TRUNC', 'TOZERO', 'TOZERO_INV']\n",
    "images = [img_basket, thresh1, thresh2, thresh3, thresh4, thresh5]\n",
    "\n",
    "for i in range(6):\n",
    "    plt.subplot(2, 3, i + 1), plt.imshow(images[i],'gray')\n",
    "    plt.title(titles[i])\n",
    "    plt.xticks([]), plt.yticks([])\n",
    "plt.show()"
   ]
  },
  {
   "cell_type": "markdown",
   "metadata": {},
   "source": [
    "cv滤波处理"
   ]
  },
  {
   "cell_type": "code",
   "execution_count": null,
   "metadata": {},
   "outputs": [],
   "source": [
    "import numpy as np\n",
    "img = cv.imread('D:/code/Python Code/data/picture/basket.jpg')\n",
    "blur = cv.blur(img, (3, 3))# 均值滤波\n",
    "box1 = cv.boxFilter(img,-1,(3,3), normalize=True)  # 方框滤波\n",
    "box2 = cv.boxFilter(img,-1,(3,3), normalize=False) # 方框滤波\n",
    "aussian = cv.GaussianBlur(img, (5, 5), 1)  # 高斯滤波\n",
    "median = cv.medianBlur(img, 5)  # 中值滤波\n",
    "\n",
    "res = np.hstack((blur,box1,box2,aussian,median))\n",
    "\n",
    "cv.namedWindow('res', cv.WINDOW_NORMAL)#设置窗口\n",
    "cv.resizeWindow('res',1200, 300)#resize大小\n",
    "cv.imshow('res', res)\n",
    "cv.waitKey(2000)\n",
    "cv.destroyAllWindows()"
   ]
  },
  {
   "cell_type": "markdown",
   "metadata": {},
   "source": [
    "cv2在窗口中绘制"
   ]
  },
  {
   "cell_type": "code",
   "execution_count": null,
   "metadata": {},
   "outputs": [],
   "source": [
    "import numpy as np\n",
    "import cv2\n",
    "img = np.zeros((480,640,3),np.uint8)#np数组创建图像\n",
    "cv2.line(img, (10,20),(300,400), (0,0,255), 5)\n",
    "cv2.rectangle(img,(10,10),(200,200),(0,255,0),10)\n",
    "cv2.circle(img,(250,250),100,(0,0,255),5)\n",
    "cv2.putText(img,'hello',(100,100),0,2,(255,255,0),5,1)\n",
    "cv2.imshow('img',img)\n",
    "cv2.waitKey(0)\n",
    "cv2.destroyAllWindows()"
   ]
  },
  {
   "cell_type": "markdown",
   "metadata": {},
   "source": [
    "cv2打开摄像头"
   ]
  },
  {
   "cell_type": "code",
   "execution_count": null,
   "metadata": {},
   "outputs": [],
   "source": [
    "import cv2\n",
    "# 打开摄像头\n",
    "cap = cv2.VideoCapture(0) # cap代表被打开的摄像头\n",
    "while 1:\n",
    "    # 从摄像头中读取一帧数据\n",
    "    ret, frame = cap.read() # frame 存储了读取到的数据\n",
    "    cv2.imshow('img',frame)\n",
    "    key = cv2.waitKey(1000//24)\n",
    "    if key == ord('q'):\n",
    "        break \n",
    "cap.release()\n",
    "cv2.destroyAllWindows()"
   ]
  },
  {
   "cell_type": "markdown",
   "metadata": {},
   "source": [
    "cv2特征点拾取"
   ]
  },
  {
   "cell_type": "code",
   "execution_count": null,
   "metadata": {},
   "outputs": [],
   "source": [
    "import cv2 as cv\n",
    "img = cv.imread('D:/code/Python Code/data/picture/basket.jpg')\n",
    "gray=cv.cvtColor(img,cv.COLOR_BGR2GRAY)\n",
    "corners=cv.goodFeaturesToTrack(gray,50,0.01,1)\n",
    "for corner in corners:\n",
    "    x,y=corner.ravel()\n",
    "    cv.circle(img,(int(x),int(y)),5,(255,0,255),-1)\n",
    "    \n",
    "cv.imshow(\"corner\",img)\n",
    "cv.waitKey(0)\n",
    "cv.destroyAllWindows()"
   ]
  },
  {
   "cell_type": "markdown",
   "metadata": {},
   "source": [
    "图像边缘检测"
   ]
  },
  {
   "cell_type": "code",
   "execution_count": null,
   "metadata": {},
   "outputs": [],
   "source": [
    "laplacian=cv.Laplacian(gray,cv.CV_64F)\n",
    "canny=cv.Canny(gray,200,255)\n",
    "\n",
    "cv.namedWindow('image', cv.WINDOW_NORMAL)#设置窗口\n",
    "cv.resizeWindow('image',600,400)\n",
    "cv.imshow(\"image\",gray)\n",
    "\n",
    "cv.namedWindow('laplacian', cv.WINDOW_NORMAL)#设置窗口\n",
    "cv.resizeWindow('laplacian',600,400)\n",
    "cv.imshow(\"laplacian\",laplacian)\n",
    "\n",
    "cv.namedWindow('canny', cv.WINDOW_NORMAL)#设置窗口\n",
    "cv.resizeWindow('canny',600,400)\n",
    "cv.imshow(\"canny\",canny)\n",
    "cv.waitKey(0)\n",
    "cv.destroyAllWindows()\n"
   ]
  },
  {
   "cell_type": "markdown",
   "metadata": {},
   "source": [
    "阈值算法"
   ]
  },
  {
   "cell_type": "code",
   "execution_count": null,
   "metadata": {},
   "outputs": [],
   "source": [
    "img = cv.imread('D:/code/Python Code/data/picture/basket.jpg')\n",
    "gray=cv.cvtColor(img,cv.COLOR_BGR2GRAY)\n",
    "\n",
    "ret,binary=cv.threshold(gray,10,255,cv.THRESH_BINARY)\n",
    "binary_adaptive=cv.adaptiveThreshold(gray,255,cv.ADAPTIVE_THRESH_GAUSSIAN_C,\n",
    "                                        cv.THRESH_BINARY,115,1)\n",
    "#自适应阈值算法\n",
    "cv.namedWindow('binary', cv.WINDOW_NORMAL)#设置窗口\n",
    "cv.resizeWindow('binary',600,400)\n",
    "cv.imshow(\"binary\",canny)\n",
    "\n",
    "cv.namedWindow('binary_adaptive', cv.WINDOW_NORMAL)#设置窗口\n",
    "cv.resizeWindow('binary_adaptive',600,400)\n",
    "cv.imshow(\"binary_adaptive\",binary_adaptive)\n",
    "\n",
    "cv.waitKey(0)\n",
    "cv.destroyAllWindows()"
   ]
  },
  {
   "cell_type": "markdown",
   "metadata": {},
   "source": [
    "腐蚀膨胀算法"
   ]
  },
  {
   "cell_type": "code",
   "execution_count": null,
   "metadata": {},
   "outputs": [],
   "source": [
    "import numpy as np\n",
    "import cv2\n",
    "img = np.zeros((400,400,3),np.uint8)#np数组创建图像\n",
    "gray=cv2.rectangle(img,(50,50),(200,200),(0,255,0),50)\n",
    "\n",
    "cv2.imwrite('D:/code/Python Code/data/picture/tang.jpg',gray)\n",
    "\n",
    "gray=cv2.imread('D:/code/Python Code/data/picture/tang.jpg',cv2.IMREAD_GRAYSCALE)\n",
    "\n",
    "_,binary=cv2.threshold(gray,100,255,cv2.THRESH_BINARY_INV)\n",
    "\n",
    "kernel=np.ones((10,10),np.uint8)\n",
    "\n",
    "erosion=cv2.erode(binary,kernel)#腐蚀#对白色操作，白为1，黑尾0；\n",
    "dilation=cv2.dilate(binary,kernel)#膨胀\n",
    "\n",
    "cv2.imshow('gray',gray) \n",
    "cv2.imshow('binary',binary)\n",
    "cv2.imshow('erosion',erosion)\n",
    "cv2.imshow('dilation',dilation)\n",
    "cv2.waitKey(0)\n",
    "cv2.destroyAllWindows()\n"
   ]
  },
  {
   "cell_type": "markdown",
   "metadata": {},
   "source": [
    "cv2水平堆叠和垂直堆叠"
   ]
  },
  {
   "cell_type": "code",
   "execution_count": null,
   "metadata": {},
   "outputs": [],
   "source": [
    "import numpy as np\n",
    "import cv2\n",
    "img=cv2.imread('D:/code/Python Code/data/picture/leaf.jpg')\n",
    "hstack=np.hstack((img,img))\n",
    "vstack=np.vstack((img,img))\n",
    "\n",
    "\n",
    "cv2.namedWindow('hstack', cv2.WINDOW_NORMAL)#设置窗口\n",
    "cv2.resizeWindow('hstack',1200,400)\n",
    "cv2.imshow('hstack',hstack)\n",
    "\n",
    "cv2.namedWindow('vstack', cv2.WINDOW_NORMAL)#设置窗口\n",
    "cv2.resizeWindow('vstack',600,800)\n",
    "cv2.imshow('vstack',vstack)\n",
    "\n",
    "cv2.waitKey(0)\n",
    "cv2.destroyAllWindows()"
   ]
  },
  {
   "cell_type": "markdown",
   "metadata": {},
   "source": [
    "cv2创建调节窗口!!!在python中运行"
   ]
  },
  {
   "cell_type": "code",
   "execution_count": null,
   "metadata": {},
   "outputs": [],
   "source": [
    "import cv2\n",
    "import numpy as np\n",
    "path='D:/code/Python Code/data/picture/lanbo.jpeg'\n",
    "def empty(a):\n",
    "    pass\n",
    "cv2.namedWindow('TrackBars')\n",
    "cv2.resizeWindow('TrackBars',600,300)\n",
    "cv2.createTrackbar('Hue Min','TrackBars',0,179,empty)\n",
    "cv2.createTrackbar('Hue Max','TrackBars',0,179,empty)\n",
    "cv2.createTrackbar('Sat Min','TrackBars',0,255,empty)\n",
    "cv2.createTrackbar('Sat Max','TrackBars',0,255,empty)\n",
    "cv2.createTrackbar('Val Min','TrackBars',0,255,empty)\n",
    "cv2.createTrackbar('Val Max','TrackBars',0,255,empty)\n",
    "\n",
    "\n",
    "while True:\n",
    "    img=cv2.imread(path)\n",
    "    imgHSV=cv2.cvtColor(img,cv2.COLOR_BGR2HSV)\n",
    "    h_min=cv2.getTrackbarPos('Hue Min','TrackBars')\n",
    "    h_Max=cv2.getTrackbarPos('Hue Max','TrackBars')\n",
    "    s_min=cv2.getTrackbarPos('Sat Min','TrackBars')\n",
    "    s_Max=cv2.getTrackbarPos('Sat Max','TrackBars')\n",
    "    v_min=cv2.getTrackbarPos('Val Min','TrackBars')\n",
    "    v_Max=cv2.getTrackbarPos('Val Max','TrackBars')#色调、饱和度、明度\n",
    "    print(h_min,h_Max,s_min,s_Max,v_min,v_Max)\n",
    "    lower=np.array([h_min,s_min,v_min])\n",
    "    upper=np.array([h_Max,s_Max,v_Max])\n",
    "    mask=cv2.inRange(imgHSV,lower,upper)\n",
    "    imgResult=cv2.bitwise_and(img,img,mask=mask)\n",
    "\n",
    "    cv2.namedWindow('orignal', cv2.WINDOW_NORMAL)#设置窗口\n",
    "    cv2.resizeWindow('orignal',600,400)\n",
    "    cv2.imshow('orignal',img)\n",
    "\n",
    "    cv2.namedWindow('HSV', cv2.WINDOW_NORMAL)#设置窗口\n",
    "    cv2.resizeWindow('HSV',600,400)\n",
    "    cv2.imshow('HSV',imgHSV)\n",
    "    \n",
    "    cv2.namedWindow('mask', cv2.WINDOW_NORMAL)#设置窗口\n",
    "    cv2.resizeWindow('mask',600,400)\n",
    "    cv2.imshow('mask',mask)\n",
    "    \n",
    "    cv2.namedWindow('imgrust', cv2.WINDOW_NORMAL)#设置窗口\n",
    "    cv2.resizeWindow('imgrust',600,400)\n",
    "    cv2.imshow('imgrust',imgResult)\n",
    "    \n",
    "    stack=np.hstack((imgHSV,imgResult))\n",
    "    cv2.namedWindow('stack', cv2.WINDOW_NORMAL)#设置窗口\n",
    "    cv2.resizeWindow('stack',1200,400)\n",
    "    cv2.imshow('stack',stack)\n",
    "    cv2.waitKey(1)\n",
    "cv2.destroyAllWindows()"
   ]
  },
  {
   "cell_type": "markdown",
   "metadata": {},
   "source": [
    "边缘形状检测"
   ]
  },
  {
   "cell_type": "code",
   "execution_count": 3,
   "metadata": {},
   "outputs": [
    {
     "name": "stdout",
     "output_type": "stream",
     "text": [
      "4\n",
      "8\n",
      "3\n",
      "4\n",
      "3\n",
      "8\n",
      "4\n",
      "3\n",
      "8\n"
     ]
    }
   ],
   "source": [
    "import cv2 \n",
    "import numpy as np\n",
    "path='D:/code/Python Code/data/picture/base.jpg'\n",
    "img=cv2.imread(path)\n",
    "imgCounter=img.copy()\n",
    "def getcontours(img):\n",
    "    contours,hierarchy=cv2.findContours(img,cv2.RETR_EXTERNAL,cv2.CHAIN_APPROX_NONE)\n",
    "    for cnt in contours:\n",
    "        area=cv2.contourArea(cnt)\n",
    "        #print(area)\n",
    "        if area>500:\n",
    "            cv2.drawContours(imgCounter,cnt,-1,(0,255,0),1)\n",
    "            peri=cv2.arcLength(cnt,True)\n",
    "            # print(peri)\n",
    "            approx=cv2.approxPolyDP(cnt,0.02*peri,True)\n",
    "            print(len(approx))\n",
    "            objCor=len(approx)\n",
    "            x,y,w,h=cv2.boundingRect(approx)\n",
    "\n",
    "            if objCor==3:\n",
    "                objectType = 'Tri'\n",
    "            elif objCor==4:\n",
    "                aspRatio=w/float(h)\n",
    "                objectType = 'square' if aspRatio >0.95 and aspRatio<1.05 else 'Rectangle'\n",
    "            elif objCor>4:objectType=\"Circles\"\n",
    "            else:objectType = 'None'\n",
    "            cv2.rectangle(imgCounter,(x,y),(x+w,y+h),(0,255,0),2)\n",
    "            cv2.putText(imgCounter,objectType,\n",
    "                        (x+(w//2)-10,y+(h//2)-10),cv2.FONT_HERSHEY_COMPLEX,0.5,(0,0,255),1)\n",
    "\n",
    "imgGray=cv2.cvtColor(img,cv2.COLOR_BGR2GRAY)\n",
    "imgBlur=cv2.GaussianBlur(imgGray,(7,7),1)#高斯滤波\n",
    "imgcanny=cv2.Canny(imgGray,100,200)\n",
    "\n",
    "getcontours(imgcanny)#函数计算\n",
    "cv2.imshow('img',img)\n",
    "# cv2.imshow('gray',imgGray)\n",
    "# cv2.imshow('Blur',imgBlur)\n",
    "hstack=np.hstack([imgGray,imgBlur,imgcanny])\n",
    "cv2.namedWindow('stack',cv2.WINDOW_NORMAL)\n",
    "cv2.resizeWindow('stack',900,300)\n",
    "\n",
    "cv2.imshow('stack',hstack)\n",
    "cv2.imshow('imgcoun',imgCounter)\n",
    "\n",
    "cv2.waitKey(0)\n",
    "cv2.destroyAllWindows()"
   ]
  },
  {
   "cell_type": "markdown",
   "metadata": {},
   "source": [
    "人脸检测"
   ]
  },
  {
   "cell_type": "code",
   "execution_count": null,
   "metadata": {},
   "outputs": [],
   "source": [
    "import cv2\n",
    "\n",
    "face_cascade = cv2.CascadeClassifier('D:/Program Files/PYTHON PROGRAM3.10.8/Lib/site-packages/cv2/data/haarcascade_frontalface_default.xml')\n",
    "\n",
    "a=face_cascade.load(\"D:/Program Files/PYTHON PROGRAM3.10.8/Lib/site-packages/cv2/data/haarcascade_frontalface_default.xml\");\n",
    "print(a)\n",
    "img = cv2.imread('D:/code/Python Code/data/picture/ren.png')\n",
    "gray = cv2.cvtColor(img,cv2.COLOR_BGR2GRAY)\n",
    "print('foo1')\n",
    "faces = face_cascade.detectMultiScale(gray,1.1,4)\n",
    "print('hello')\n",
    "for (x,y,w,h) in faces:\n",
    "    cv2.rectangle(img,(x,y),(x+w,y+h),(0,255,0),2)\n",
    "cv2.imshow('out',img)\n",
    "cv2.waitKey(0)\n",
    "cv2.destroyAllWindows()"
   ]
  },
  {
   "cell_type": "markdown",
   "metadata": {},
   "source": [
    "隔空画笔\n",
    "-\n",
    "[b站]https://www.bilibili.com/video/BV16K411W7x9/?spm_id_from=333.1007.top_right_bar_window_custom_collection.content.click&vd_source=db0477bb8107dcca2e4d22c3eb45818a"
   ]
  },
  {
   "cell_type": "code",
   "execution_count": null,
   "metadata": {},
   "outputs": [],
   "source": [
    "import cv2\n",
    "import numpy as np\n",
    "frameWidth=640\n",
    "frameHeight=480\n",
    "cap=cv2.VideoCapture(0)\n",
    "cap.set(3,frameWidth)\n",
    "cap.set(4,frameHeight)\n",
    "cap.set(10,200)#亮度\n",
    "\n",
    "myColors=[74,124,90,185,87,255] \n",
    "\n",
    "myColorvalues=[228,151,94]#bgr\n",
    "\n",
    "myPoints=[]  ##[x,y,colorID]\n",
    "\n",
    "def findColor(img,myColors,myColorvalues):\n",
    "    imgHSV=cv2.cvtColor(img,cv2.COLOR_BGR2HSV)\n",
    "    newPoints=[]\n",
    "    count=0\n",
    "    for color in myColors:\n",
    "        lower=np.array([myColors[0],myColors[2],myColors[4]])\n",
    "        upper=np.array([myColors[1],myColors[3],myColors[5]])\n",
    "        \n",
    "        mask=cv2.inRange(imgHSV,lower,upper)\n",
    "        x,y=getcontours(mask)\n",
    "        cv2.circle(imgResult,(x,y),10,(0,0,255),cv2.FILLED)\n",
    "        if x!=0 and y!=0:\n",
    "            newPoints = [[x, y, count]]\n",
    "        count = count + 1\n",
    "    return newPoints\n",
    "    \n",
    "    # cv2.imshow('img',mask)\n",
    "    \n",
    "def getcontours(img):\n",
    "    contours,hierarchy=cv2.findContours(img,cv2.RETR_EXTERNAL,cv2.CHAIN_APPROX_NONE)\n",
    "    x,y,w,h=0,0,0,0\n",
    "    for cnt in contours:\n",
    "        area=cv2.contourArea(cnt)\n",
    "        #print(area)\n",
    "        if area>500:\n",
    "            cv2.drawContours(imgResult,cnt,-1,(0,255,0),1)\n",
    "            peri=cv2.arcLength(cnt,True)\n",
    "            # print(peri)\n",
    "            approx=cv2.approxPolyDP(cnt,0.02*peri,True)\n",
    "            x,y,w,h=cv2.boundingRect(approx)\n",
    "    return x+w//2,y\n",
    "\n",
    "def drawOncanvas(mypoints,myColorvalues):\n",
    "    for point in myPoints:\n",
    "        cv2.circle(imgResult,(point[0],point[1]),10,myColorvalues,cv2.FILLED)\n",
    "\n",
    "while True:\n",
    "    success,img=cap.read()\n",
    "    imgResult=img.copy()\n",
    "    newPoints=findColor(img,myColors,myColorvalues)\n",
    "    if len(newPoints)!=0:\n",
    "        for newP in newPoints:\n",
    "            myPoints.append(newP)\n",
    "    if len(myPoints)!=0:\n",
    "        drawOncanvas(myPoints,myColorvalues)\n",
    "    cv2.imshow('Reeult',imgResult)\n",
    "    if cv2.waitKey(1)&0xFF==ord('q'):\n",
    "        break"
   ]
  }
 ],
 "metadata": {
  "kernelspec": {
   "display_name": "Python 3.10.8 64-bit",
   "language": "python",
   "name": "python3"
  },
  "language_info": {
   "codemirror_mode": {
    "name": "ipython",
    "version": 3
   },
   "file_extension": ".py",
   "mimetype": "text/x-python",
   "name": "python",
   "nbconvert_exporter": "python",
   "pygments_lexer": "ipython3",
   "version": "3.10.8"
  },
  "orig_nbformat": 4,
  "vscode": {
   "interpreter": {
    "hash": "fafd8baaa4fcb8e2615a24d343c939b8c83a87567ee02d14f56d29b1348ced23"
   }
  }
 },
 "nbformat": 4,
 "nbformat_minor": 2
}
