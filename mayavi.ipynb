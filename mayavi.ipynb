{
 "cells": [
  {
   "attachments": {},
   "cell_type": "markdown",
   "metadata": {},
   "source": [
    "**``mayavi``**\n",
    "---\n"
   ]
  },
  {
   "cell_type": "code",
   "execution_count": 2,
   "metadata": {},
   "outputs": [],
   "source": [
    "from mayavi import mlab\n",
    "import numpy as np\n",
    "import pandas as pd\n"
   ]
  },
  {
   "cell_type": "code",
   "execution_count": 15,
   "metadata": {},
   "outputs": [],
   "source": [
    "x,y=np.ogrid[-2:2:20j,-2:2:20j]\n",
    "z=x*np.exp(-x**2-y**2)\n",
    "pl=mlab.surf(x,y,z)\n",
    "mlab.outline(pl)\n",
    "mlab.show()"
   ]
  },
  {
   "cell_type": "code",
   "execution_count": 36,
   "metadata": {},
   "outputs": [
    {
     "name": "stdout",
     "output_type": "stream",
     "text": [
      "SimpleCNN(\n",
      "  (conv1): Conv2d(1, 16, kernel_size=(3, 3), stride=(1, 1), padding=(1, 1))\n",
      "  (relu): ReLU()\n",
      "  (pool): MaxPool2d(kernel_size=2, stride=2, padding=0, dilation=1, ceil_mode=False)\n",
      "  (fc): Linear(in_features=3136, out_features=10, bias=True)\n",
      ")\n"
     ]
    }
   ],
   "source": [
    "import torch\n",
    "import torch.nn as nn\n",
    "\n",
    "# 定义简单的CNN模型\n",
    "class SimpleCNN(nn.Module):\n",
    "    def __init__(self):\n",
    "        super(SimpleCNN, self).__init__()\n",
    "        self.conv1 = nn.Conv2d(in_channels=1, out_channels=16, kernel_size=3, stride=1, padding=1)\n",
    "        self.relu = nn.ReLU()\n",
    "        self.pool = nn.MaxPool2d(kernel_size=2, stride=2)\n",
    "        self.fc = nn.Linear(16 * 14 * 14, 10)  # 假设输入图像尺寸为28x28\n",
    "\n",
    "    def forward(self, x):\n",
    "        x = self.conv1(x)\n",
    "        x = self.relu(x)\n",
    "        x = self.pool(x)\n",
    "        x = x.view(x.size(0), -1)  # 展平特征图\n",
    "        x = self.fc(x)\n",
    "        return x\n",
    "\n",
    "# 创建模型实例\n",
    "model = SimpleCNN()\n",
    "\n",
    "# 打印模型结构\n",
    "print(model)\n"
   ]
  },
  {
   "cell_type": "code",
   "execution_count": 71,
   "metadata": {},
   "outputs": [
    {
     "name": "stdout",
     "output_type": "stream",
     "text": [
      "输入结果的形状: torch.Size([1, 1, 28, 28])\n",
      "输出结果的形状: torch.Size([1, 10])\n",
      "预测概率: tensor([[0.0648, 0.1514, 0.0867, 0.1384, 0.1163, 0.0868, 0.1397, 0.1074, 0.0506,\n",
      "         0.0579]], grad_fn=<SoftmaxBackward0>)\n"
     ]
    },
    {
     "data": {
      "image/png": "[encoded data removed]",
      "text/plain": [
       "<Figure size 600x400 with 1 Axes>"
      ]
     },
     "metadata": {},
     "output_type": "display_data"
    }
   ],
   "source": [
    "# 创建模型实例\n",
    "model = SimpleCNN()\n",
    "\n",
    "# 创建随机测试数据\n",
    "batch_size = 1\n",
    "channels = 1\n",
    "height = 28\n",
    "width = 28\n",
    "input_data = torch.randn(batch_size, channels, height, width)\n",
    "\n",
    "# 将输入数据输入模型进行前向传播\n",
    "output = model(input_data)\n",
    "\n",
    "# 打印输出结果的形状\n",
    "print(\"输入结果的形状:\", input_data.shape)\n",
    "print(\"输出结果的形状:\", output.shape)\n",
    "import torch.nn.functional as F\n",
    "\n",
    "# 对输出结果应用softmax函数\n",
    "probabilities = F.softmax(output, dim=1)\n",
    "\n",
    "# 打印预测概率\n",
    "print(\"预测概率:\", probabilities)\n",
    "probabilities.sum()\n",
    "import matplotlib.pyplot as plt\n",
    "import matplotlib.ticker as ticker\n",
    "fig,axs=plt.subplots(figsize=(6,4))\n",
    "plt.style.use('bmh')\n",
    "x=np.arange(0,10)\n",
    "y=probabilities.detach().numpy()\n",
    "y=y.reshape(10,-1)\n",
    "axs.set_ylim(0,1)\n",
    "axs.xaxis.set_major_locator(ticker.MultipleLocator(1))#主刻度\n",
    "axs.yaxis.set_major_locator(ticker.MultipleLocator(0.1))#主刻度\n",
    "axs.stem(x,y)\n",
    "plt.show()"
   ]
  }
 ],
 "metadata": {
  "kernelspec": {
   "display_name": "Python 3",
   "language": "python",
   "name": "python3"
  },
  "language_info": {
   "codemirror_mode": {
    "name": "ipython",
    "version": 3
   },
   "file_extension": ".py",
   "mimetype": "text/x-python",
   "name": "python",
   "nbconvert_exporter": "python",
   "pygments_lexer": "ipython3",
   "version": "3.9.10"
  },
  "orig_nbformat": 4
 },
 "nbformat": 4,
 "nbformat_minor": 2
}
