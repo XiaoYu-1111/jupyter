{
 "cells": [
  {
   "cell_type": "code",
   "execution_count": 63,
   "metadata": {},
   "outputs": [],
   "source": [
    "#一般积分(quad)\n",
    "import scipy.integrate as integrate\n",
    "import scipy.special as special\n",
    "import numpy as np\n",
    "import matplotlib.pyplot as plt\n"
   ]
  },
  {
   "cell_type": "code",
   "execution_count": 64,
   "metadata": {},
   "outputs": [],
   "source": [
    "def beita(arf,bet,x):\n",
    "    return (x**(arf-1))*(1-x)**(bet-1)\n"
   ]
  },
  {
   "cell_type": "code",
   "execution_count": 65,
   "metadata": {},
   "outputs": [
    {
     "data": {
      "text/plain": [
       "array([1.        , 0.90909091, 0.83333333, ..., 0.00500751, 0.00500501,\n",
       "       0.0050025 ])"
      ]
     },
     "execution_count": 65,
     "metadata": {},
     "output_type": "execute_result"
    }
   ],
   "source": [
    "arf=1;\n",
    "result1=[]\n",
    "for bet in np.arange(1,200,0.1):\n",
    "    result=integrate.quad(lambda x:beita(arf,bet,x),0,1)#使用lambda ：x,f(x),积分下限，积分上限\n",
    "    result1.append(result)\n",
    "# print(f'返回积分元组:{result}')#第一项为结果，第二项为误差\n",
    "# print(f'积分结果:{result[0]}')\n",
    "# print(f'积分误差上限:{result[1]}')\n",
    "result1\n",
    "result2=np.array(result1)\n",
    "result2[:,0]\n"
   ]
  },
  {
   "cell_type": "code",
   "execution_count": 68,
   "metadata": {},
   "outputs": [
    {
     "data": {
      "image/png": "[encoded data removed]",
      "text/plain": [
       "<Figure size 640x480 with 1 Axes>"
      ]
     },
     "metadata": {},
     "output_type": "display_data"
    }
   ],
   "source": [
    "bet=np.arange(1,200,0.1)\n",
    "plt.plot(bet,result2[:,0])\n",
    "plt.xscale('log')\n",
    "plt.show()"
   ]
  },
  {
   "cell_type": "code",
   "execution_count": 24,
   "metadata": {},
   "outputs": [
    {
     "name": "stdout",
     "output_type": "stream",
     "text": [
      "1684312958.4288187\n",
      "1684312958.431602\n",
      "0.0027832984924316406\n"
     ]
    }
   ],
   "source": [
    "import numpy as np\n",
    "import time\n",
    "time1=time.time()\n",
    "print(time1)\n",
    "a=np.linspace(0,10,100)\n",
    "with open('1.txt','w+') as file1:\n",
    "    for i in np.arange(0,10):\n",
    "        time2=time.time()\n",
    "        i=i+1\n",
    "        for j in np.arange(0,100):\n",
    "            y=i**2+j**2\n",
    "            print(i,j,y,file=file1)\n",
    "    print(time.time())\n",
    "print(time2-time1)\n"
   ]
  },
  {
   "attachments": {},
   "cell_type": "markdown",
   "metadata": {},
   "source": [
    "python时间学习"
   ]
  },
  {
   "cell_type": "code",
   "execution_count": 36,
   "metadata": {},
   "outputs": [
    {
     "name": "stdout",
     "output_type": "stream",
     "text": [
      "time.struct_time(tm_year=2023, tm_mon=5, tm_mday=17, tm_hour=17, tm_min=21, tm_sec=52, tm_wday=2, tm_yday=137, tm_isdst=0)\n",
      "Wed May 17 17:21:52 2023\n",
      "      May 2023\n",
      "Mo Tu We Th Fr Sa Su\n",
      " 1  2  3  4  5  6  7\n",
      " 8  9 10 11 12 13 14\n",
      "15 16 17 18 19 20 21\n",
      "22 23 24 25 26 27 28\n",
      "29 30 31\n",
      "\n"
     ]
    }
   ],
   "source": [
    "import time\n",
    "import calendar\n",
    "localtime=time.localtime(time.time())\n",
    "locattime_now=time.asctime(localtime)\n",
    "print(localtime)\n",
    "print(locattime_now)\n",
    "cal=calendar.month(2023,5)\n",
    "print(cal)"
   ]
  }
 ],
 "metadata": {
  "kernelspec": {
   "display_name": "Python 3",
   "language": "python",
   "name": "python3"
  },
  "language_info": {
   "codemirror_mode": {
    "name": "ipython",
    "version": 3
   },
   "file_extension": ".py",
   "mimetype": "text/x-python",
   "name": "python",
   "nbconvert_exporter": "python",
   "pygments_lexer": "ipython3",
   "version": "3.9.10"
  },
  "orig_nbformat": 4
 },
 "nbformat": 4,
 "nbformat_minor": 2
}
