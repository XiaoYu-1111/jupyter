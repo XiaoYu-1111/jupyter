{
 "cells": [
  {
   "attachments": {},
   "cell_type": "markdown",
   "metadata": {},
   "source": [
    "**markerdown命令**\n",
    "---\n",
    "_斜字体_\n",
    "~删除线~\n",
    "***粗斜字体***\n",
    ">[百度链接] https://www.baidu.com/?tn=94402226_hao_pg&rsr=8\n",
    ">>[sci.py链接] https://docs.scipy.org/doc/scipy/tutorial/interpolate.html#d-interpolation-interp1d\n",
    ">>>[numpy链接]https://numpy.org/case-studies/gw-discov/\n",
    "***\n",
    "\n",
    "---\n",
    "\n",
    ">区块引用一级\n",
    ">>二级\n",
    ">>>三级\n",
    "\n",
    "---  \n",
    "\n",
    " - 圆点\n",
    "\n",
    "``高亮显示``  \n",
    "字体变大下面加三杠\n",
    "---  \n",
    "序号|姓名|年龄|工资\n",
    " --|--|--|--\n",
    "1|小明|20|8000\n",
    "2|小红|18|6000\n",
    "\n",
    "[百度链接]http://www.baidu.com  \n",
    "[B站]https://www.bilibili.com/  \n",
    "这是一个链接[markdown](https://markdown.com.cn '最好的Markdown教程')\n",
    "\n",
    "this's  `python labority` `代码语法`\n",
    "\n",
    "This **word** is blod. This <em>word</em> is italic.\n",
    "\n"
   ]
  }
 ],
 "metadata": {
  "kernelspec": {
   "display_name": "Python 3.10.5 64-bit",
   "language": "python",
   "name": "python3"
  },
  "language_info": {
   "codemirror_mode": {
    "name": "ipython",
    "version": 3
   },
   "file_extension": ".py",
   "mimetype": "text/x-python",
   "name": "python",
   "nbconvert_exporter": "python",
   "pygments_lexer": "ipython3",
   "version": "3.11.0"
  },
  "orig_nbformat": 4,
  "vscode": {
   "interpreter": {
    "hash": "dc91eaf392cdf59fbb907f442730dfcebe90c4c9ac81fc2197c752ff9fecc8f3"
   }
  }
 },
 "nbformat": 4,
 "nbformat_minor": 2
}
