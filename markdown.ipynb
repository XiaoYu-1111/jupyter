{
 "cells": [
  {
   "cell_type": "markdown",
   "metadata": {},
   "source": [
    "**markerdown命令**<br/>\n",
    "---\n",
    "_斜字体_<br/>\n",
    "~删除线~<p>\n",
    "***粗斜字体***<br/>\n",
    ">[百度链接] https://www.baidu.com/?tn=94402226_hao_pg&rsr=8[1]\n",
    ">>[sci.py链接] https://docs.scipy.org/doc/scipy/tutorial/interpolate.html#d-interpolation-interp1d\n",
    ">>>[numpy链接]https://numpy.org/case-studies/gw-discov/\n",
    "***\n",
    "---\n",
    ">区块引用一级\n",
    ">>二级\n",
    ">>>三级\n",
    "---\n",
    "\n",
    "``高亮显示``<br/>\n",
    "字体变大下面加三杠\n",
    "---  \n",
    "序号|姓名|年龄|工资\n",
    " --|--|--|--\n",
    "1|小明|20|8000\n",
    "2|小红|18|6000\n",
    "\n",
    "[百度链接]http://www.baidu.com<br/>\n",
    "[B站]https://www.bilibili.com/\n",
    "\n",
    "**``显示图片``**<br/>\n",
    "<img src=\"https://thumbnail1.baidupcs.com/thumbnail/d7ebc5c05n6532479b3aa37cae6d8c3a?fid=310449964-250528-605705305010680&rt=pr&sign=FDTAER-DCb740ccc5511e5e8fedcff06b081203-yqfUVJmAVbwL%2bCIp0XHiFuZzF50%3d&expires=8h&chkbd=0&chkv=0&dp-logid=140643642860558424&dp-callid=0&time=1658667600&size=c1536_u864&quality=90&vuk=310449964&ft=image&autopolicy=1\" width=\"800\" height=\"400\" alt=\"err\">\n",
    "***\n",
    " <img src=\"https://thumbnail1.baidupcs.com/thumbnail/6d037ca4chc987b2f3d5aa40da5b926e?fid=310449964-250528-680528043850862&rt=pr&sign=FDTAER-DCb740ccc5511e5e8fedcff06b081203-IcOpkvtMsK1YVx4EIJGzETaQl6M%3d&expires=8h&chkbd=0&chkv=0&dp-logid=140444723848821465&dp-callid=0&time=1658667600&size=c1536_u864&quality=90&vuk=310449964&ft=image&autopolicy=1\" width = \"700\" height = \"400\" alt=\"err\">\n",
    "\n",
    " ---\n",
    " <img src=\"https://thumbnail1.baidupcs.com/thumbnail/dba42fd07nd001ad43928366aa6348b0?fid=310449964-250528-268094288294759&rt=pr&sign=FDTAER-DCb740ccc5511e5e8fedcff06b081203-RyRwN%2b138lOV%2fJyigL%2bwG6sPgoM%3d&expires=8h&chkbd=0&chkv=0&dp-logid=140643642860558424&dp-callid=0&time=1658667600&size=c1536_u864&quality=90&vuk=310449964&ft=image&autopolicy=1\" width='8000' height=\"400\" alt='err'>"
   ]
  }
 ],
 "metadata": {
  "kernelspec": {
   "display_name": "Python 3.10.5 64-bit",
   "language": "python",
   "name": "python3"
  },
  "language_info": {
   "codemirror_mode": {
    "name": "ipython",
    "version": 3
   },
   "file_extension": ".py",
   "mimetype": "text/x-python",
   "name": "python",
   "nbconvert_exporter": "python",
   "pygments_lexer": "ipython3",
   "version": "3.11.0"
  },
  "orig_nbformat": 4,
  "vscode": {
   "interpreter": {
    "hash": "dc91eaf392cdf59fbb907f442730dfcebe90c4c9ac81fc2197c752ff9fecc8f3"
   }
  }
 },
 "nbformat": 4,
 "nbformat_minor": 2
}
