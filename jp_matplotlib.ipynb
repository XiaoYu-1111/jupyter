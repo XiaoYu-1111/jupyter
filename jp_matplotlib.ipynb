{
 "cells": [
  {
   "cell_type": "markdown",
   "metadata": {},
   "source": [
    "matplotlib库\n",
    "---"
   ]
  },
  {
   "cell_type": "markdown",
   "metadata": {},
   "source": [
    "1.图片展示与散点图；\n",
    "2.解决默认显示不清晰问题；导出设置"
   ]
  },
  {
   "cell_type": "markdown",
   "metadata": {},
   "source": [
    "[颜色对照表]https://zhuanlan.zhihu.com/p/65220518"
   ]
  },
  {
   "cell_type": "code",
   "execution_count": null,
   "metadata": {
    "dotnet_interactive": {
     "language": "csharp"
    }
   },
   "outputs": [],
   "source": [
    "import numpy as np\n",
    "import matplotlib.pyplot as plt\n",
    "%matplotlib inline\n",
    "%config InlineBackend.figure_format='retina'\n",
    "%config InlineBackend.figure_format='svg'\n",
    "plt.style.use('bmh')\n",
    "dt=0.1\n",
    "x=np.arange(0,10,dt)\n",
    "s=np.sin(2*np.pi*x)\n",
    "# print(x,s)\n",
    "plt.plot(x,s)\n",
    "plt.scatter(x,s,color='red')\n",
    "\n",
    "#plt.savefig('x-y-t.jpg',dpi=800,bbox_inches='tight')#保存清晰\n",
    "plt.show()"
   ]
  },
  {
   "cell_type": "markdown",
   "metadata": {},
   "source": [
    "简单线性图表\n"
   ]
  },
  {
   "cell_type": "code",
   "execution_count": null,
   "metadata": {
    "dotnet_interactive": {
     "language": "csharp"
    }
   },
   "outputs": [],
   "source": [
    "import matplotlib.pyplot as plt\n",
    "import numpy as np\n",
    "plt.style.use('bmh')\n",
    "#make data\n",
    "x=np.linspace(0,10,100)#x散点取值\n",
    "y=4+2*np.sin(2*x)#定义y函数\n",
    "#plot\n",
    "fig,ax=plt.subplots()\n",
    "ax.plot(x,y,linewidth=2.0)\n",
    "ax.set( xlim=(0,8),xticks=np.arange(1,8),\n",
    "        ylim=(0,8),yticks=np.arange(1,8))\n",
    "plt.show\n"
   ]
  },
  {
   "cell_type": "markdown",
   "metadata": {},
   "source": [
    "散点图"
   ]
  },
  {
   "cell_type": "code",
   "execution_count": null,
   "metadata": {
    "dotnet_interactive": {
     "language": "csharp"
    }
   },
   "outputs": [],
   "source": [
    "import matplotlib.pyplot as plt\n",
    "import numpy as np\n",
    "plt.style.use('bmh')\n",
    "\n",
    "#make the data \n",
    "np.random.seed(3)\n",
    "x=4+np.random.normal(0,2,30)#loc=0;均值；scale=2；标准差越大范围越宽；size=30，个数。\n",
    "# y=4+np.random.normal(0,2,len(x))\n",
    "y=np.sin(x)+4\n",
    "sizes=np.random.uniform(15,80,len(x))\n",
    "colors=np.random.uniform(0,100,len(x))#大小和颜色采用随机数生成\n",
    "\n",
    "#plot\n",
    "fig,ax=plt.subplots()#子图\n",
    "ax.scatter(x,y,s=sizes,c=colors,vmin=0,vmax=100)#位置及其他属性\n",
    "ax.set( xlim=(0,8),xticks=np.arange(1,8),\n",
    "        ylim=(0,8),yticks=np.arange(1,8))#轴显示范围\n",
    "plt.show()\n"
   ]
  },
  {
   "cell_type": "markdown",
   "metadata": {},
   "source": [
    "柱状图"
   ]
  },
  {
   "cell_type": "code",
   "execution_count": null,
   "metadata": {
    "dotnet_interactive": {
     "language": "csharp"
    }
   },
   "outputs": [],
   "source": [
    "import matplotlib.pyplot as plt\n",
    "import numpy as np\n",
    "#导入库\n",
    "plt.style.use('bmh')#样式\n",
    "#make data \n",
    "np.random.seed(3)#随机种子\n",
    "x=0.5+np.arange(8)#x范围\n",
    "y=np.random.uniform(2,9,len(x))#y范围。即高度\n",
    "\n",
    "#plot\n",
    "fig,ax=plt.subplots()\n",
    "ax.bar(x,y,width=0.5,edgecolor='black',linewidth=1)#柱体设置，宽；描边颜色，线宽\n",
    "ax.set(xlim=(0,8),xticks=np.arange(1,8),\n",
    "        ylim=(0,8),yticks=np.arange(1,10))\n",
    "plt.show()"
   ]
  },
  {
   "cell_type": "markdown",
   "metadata": {},
   "source": [
    "茎干图"
   ]
  },
  {
   "cell_type": "code",
   "execution_count": null,
   "metadata": {
    "dotnet_interactive": {
     "language": "csharp"
    }
   },
   "outputs": [],
   "source": [
    "import matplotlib.pyplot as plt\n",
    "import numpy as np\n",
    "\n",
    "plt.style.use('bmh')\n",
    "#make data\n",
    "np.random.seed(3)\n",
    "x=0.5+np.arange(8)\n",
    "y=np.random.uniform(2,7,len(x))#随机数据\n",
    "# y=np.sin(x)+4\n",
    "#plot\n",
    "fig,ax=plt.subplots()\n",
    "\n",
    "ax.stem(x,y)\n",
    "ax.set(xlim=(0,8),xticks=np.arange(1,8),\n",
    "        ylim=(0,8),yticks=np.arange(1,8))\n",
    "plt.show()"
   ]
  },
  {
   "cell_type": "markdown",
   "metadata": {},
   "source": [
    "步长图step(x, y)"
   ]
  },
  {
   "cell_type": "code",
   "execution_count": null,
   "metadata": {
    "dotnet_interactive": {
     "language": "csharp"
    }
   },
   "outputs": [],
   "source": [
    "import matplotlib.pyplot as plt\n",
    "import numpy as np\n",
    "plt.style.use('bmh')\n",
    "\n",
    "#make data \n",
    "np.random.seed(3)\n",
    "x=0.5+np.arange(8)\n",
    "y=np.random.uniform(2,7,len(x))\n",
    "#plot\n",
    "fig,ax=plt.subplots()\n",
    "ax.step(x,y,linewidth=2.5)\n",
    "ax.set(xlim=(0,8),xticks=np.arange(1,8),\n",
    "        ylim=(0,8),yticks=np.arange(1,8))\n",
    "plt.show()\n",
    "\n",
    "\n"
   ]
  },
  {
   "cell_type": "markdown",
   "metadata": {},
   "source": [
    "填充区间图fill_between(x, y1, y2)"
   ]
  },
  {
   "cell_type": "code",
   "execution_count": null,
   "metadata": {
    "dotnet_interactive": {
     "language": "csharp"
    }
   },
   "outputs": [],
   "source": [
    "import numpy as np\n",
    "import matplotlib.pyplot as plt\n",
    "plt.style.use('bmh')\n",
    "\n",
    "#make data \n",
    "np.random.seed(1)\n",
    "# x=np.arange(1,8,0.5)\n",
    "x=np.linspace(0,8,16)\n",
    "y1=3+4*x/8+np.random.uniform(0.0,0.5,len(x))\n",
    "y2=1+2*x/8+np.random.uniform(0.0,0.5,len(x))\n",
    "# print(y1,y2)\n",
    "\n",
    "#plot\n",
    "fig,ax=plt.subplots()\n",
    "\n",
    "ax.fill_between(x,y1,y2,alpha=0.2,color='orange',linewidth=0)\n",
    "ax.scatter(x,(y1+y2)/2,color='blue',alpha=0.5)#位置及其他属性\n",
    "ax.plot(x,(y1+y2)/2,linewidth=2,color='red')\n",
    "\n",
    "\n",
    "ax.set(xlim=(0,8),xticks=np.arange(1,8),\n",
    "        ylim=(0,8),yticks=np.arange(1,8))\n",
    "plt.show()\n"
   ]
  },
  {
   "cell_type": "markdown",
   "metadata": {},
   "source": [
    "imshow(z);显示图像"
   ]
  },
  {
   "cell_type": "code",
   "execution_count": null,
   "metadata": {
    "dotnet_interactive": {
     "language": "csharp"
    }
   },
   "outputs": [],
   "source": [
    "import matplotlib.pyplot as plt\n",
    "import numpy as np\n",
    "plt.style.use('bmh')\n",
    "#make data\n",
    "X,Y=np.meshgrid(np.linspace(-3,3,16),np.linspace(-3,3,16))\n",
    "Z=(X/2+X**5+Y**3)*np.exp(-X**2-Y**2)\n",
    "# Z=(X**2+Y**2)\n",
    "#plot\n",
    "fig,ax=plt.subplots()\n",
    "\n",
    "ax.imshow(Z)\n",
    "\n",
    "plt.show()"
   ]
  },
  {
   "cell_type": "markdown",
   "metadata": {},
   "source": [
    "pcolormesh（x,y,z）"
   ]
  },
  {
   "cell_type": "code",
   "execution_count": null,
   "metadata": {
    "dotnet_interactive": {
     "language": "csharp"
    }
   },
   "outputs": [],
   "source": [
    "import matplotlib.pyplot as plt\n",
    "import numpy as np\n",
    "plt.style.use('bmh')\n",
    "#make data with uneven sampling in x\n",
    "x=[-3, -2, -1.6, -1.2, -.8, -.5, -.2, .1, .3, .5, .8, 1.1, 1.5, 1.9, 2.3, 3]\n",
    "y=np.linspace(-3, 3, 128)\n",
    "X, Y = np.meshgrid(x,y)\n",
    "Z = (1 - X/2 + X**5 + Y**3) * np.exp(-X**2 - Y**2)\n",
    "#PLOT\n",
    "fig, ax = plt.subplots()\n",
    "ax.pcolormesh(X, Y, Z, vmin=-0.5, vmax=1.0)\n",
    "plt.show()\n"
   ]
  },
  {
   "cell_type": "markdown",
   "metadata": {},
   "source": [
    "等高线图comtour"
   ]
  },
  {
   "cell_type": "code",
   "execution_count": null,
   "metadata": {
    "dotnet_interactive": {
     "language": "csharp"
    }
   },
   "outputs": [],
   "source": [
    "import matplotlib.pyplot as plt\n",
    "import numpy as np\n",
    "\n",
    "plt.style.use('bmh')\n",
    "#make data\n",
    "X,Y=np.meshgrid(np.linspace(-5,5,256),np.linspace(-5,5,256))\n",
    "Z=(1-X/2+X**5+Y**3)*np.exp(-X**2-Y**2)\n",
    "levels=np.linspace(np.min(Z),np.max(Z),10)\n",
    "#PLOT\n",
    "fig,ax=plt.subplots()\n",
    "ax.contour(X,Y,Z,levels=levels)\n",
    "plt.show()\n"
   ]
  },
  {
   "cell_type": "markdown",
   "metadata": {},
   "source": [
    "等高线内部填充contourf（z，y，z）"
   ]
  },
  {
   "cell_type": "code",
   "execution_count": null,
   "metadata": {
    "dotnet_interactive": {
     "language": "csharp"
    }
   },
   "outputs": [],
   "source": [
    "import matplotlib.pyplot as plt\n",
    "import numpy as np\n",
    "plt.style.use('bmh')\n",
    "#make data\n",
    "\n",
    "X,Y=np.meshgrid(np.linspace(-3,3,256),np.linspace(-3,3,256))\n",
    "Z=(1-X/2+X**5+Y**3)*np.exp(-X**2-Y**2)\n",
    "levels=np.linspace(Z.min(),Z.max(),20)\n",
    "\n",
    "#plot\n",
    "fig,ax=plt.subplots()\n",
    "\n",
    "ax.contourf(X,Y,Z,levels=levels)\n",
    "\n",
    "plt.show()\n",
    "\n"
   ]
  },
  {
   "cell_type": "markdown",
   "metadata": {},
   "source": [
    "barbs（风速羽）"
   ]
  },
  {
   "cell_type": "code",
   "execution_count": null,
   "metadata": {
    "dotnet_interactive": {
     "language": "csharp"
    }
   },
   "outputs": [],
   "source": [
    "import matplotlib.pyplot as plt\n",
    "import numpy as np\n",
    "\n",
    "plt.style.use('bmh')\n",
    "#make data\n",
    "X,Y=np.meshgrid([1,2,3,4],[1,2,3,4])#x,y数据坐标范围\n",
    "angle=np.pi/180*np.array(   [[45, 20,30, 40],\n",
    "                            [20, 45, 40, 50],\n",
    "                            [30, 40, 45, 60],\n",
    "                            [40, 50, 60, 45]])#角度\n",
    "amplitude=np.array([    [50, 20,30, 40],\n",
    "                        [20, 50, 40, 50],\n",
    "                        [30, 40, 50, 60],\n",
    "                        [40, 50, 60, 50]])#风速(国内表示三角为20m/s)\n",
    "U=amplitude*np.sin(angle)\n",
    "V=amplitude*np.cos(angle)\n",
    "#plot:\n",
    "fig,ax=plt.subplots()\n",
    "ax.barbs(X,Y,U,V,barbcolor='C0',flagcolor='C0',length=7,linewidth=1.5)\n",
    "\n",
    "ax.set(xlim=(0,4.5),ylim=(0,4.5))\n",
    "plt.show()\n",
    "\n"
   ]
  },
  {
   "cell_type": "markdown",
   "metadata": {},
   "source": [
    "quiver(X,Y,U,V箭图)"
   ]
  },
  {
   "cell_type": "code",
   "execution_count": null,
   "metadata": {
    "dotnet_interactive": {
     "language": "csharp"
    }
   },
   "outputs": [],
   "source": [
    "import matplotlib.pyplot as plt\n",
    "import numpy as np\n",
    "plt.style.use('bmh')\n",
    "#make data\n",
    "x=np.linspace(-4,4,6)\n",
    "y=np.linspace(-4,4,6)\n",
    "X,Y=np.meshgrid(x,y)\n",
    "# print(X,Y)\n",
    "U=X+Y\n",
    "V=Y-X\n",
    "#PLOT\n",
    "fig,ax=plt.subplots()\n",
    "\n",
    "ax.quiver(X,Y,U,V,color='orange',angles='xy',scale_units='xy',scale=5,width=0.01)\n",
    "ax.set(xlim=(-5,5),ylim=(-5,5))\n",
    "plt.show()"
   ]
  },
  {
   "cell_type": "markdown",
   "metadata": {},
   "source": [
    "流图(streamplot:X,Y,U,V)"
   ]
  },
  {
   "cell_type": "code",
   "execution_count": null,
   "metadata": {
    "dotnet_interactive": {
     "language": "csharp"
    }
   },
   "outputs": [],
   "source": [
    "import matplotlib.pyplot as plt\n",
    "import numpy as np\n",
    "plt.style.use('bmh')\n",
    "#make data\n",
    "X,Y=np.meshgrid(np.linspace(-3,3,256),np.linspace(-3,3,256))\n",
    "Z=(1-X/2+X**5+Y**3)*np.exp(-X**2-Y**2)\n",
    "#make u and v out of the streamfunction:\n",
    "V=np.diff(Z[1:,:],axis=1)\n",
    "U=np.diff(Z[:,1:],axis=0)\n",
    "#plot\n",
    "fig,ax=plt.subplots()\n",
    "ax.streamplot(X[1:,1:],Y[1:,1:],-U,V,)\n",
    "\n",
    "plt.show()\n",
    "\n"
   ]
  },
  {
   "cell_type": "markdown",
   "metadata": {},
   "source": [
    "频数直方图(hist(x))即x的统计"
   ]
  },
  {
   "cell_type": "code",
   "execution_count": null,
   "metadata": {
    "dotnet_interactive": {
     "language": "csharp"
    }
   },
   "outputs": [],
   "source": [
    "import matplotlib.pyplot as plt \n",
    "import numpy as np \n",
    "plt.style.use('bmh')\n",
    "#make data \n",
    "np.random.seed(1)\n",
    "x=4+np.random.normal(0,1,200)\n",
    "#plot\n",
    "fig,ax=plt.subplots()\n",
    "ax.hist(x,bins=8,linewidth=2,edgecolor='white')\n",
    "ax.set(xlim=(0,8),xticks=np.arange(1,8),\n",
    "        ylim=(0,8),yticks=np.linspace(0,56,9))\n",
    "plt.show()\n"
   ]
  },
  {
   "cell_type": "markdown",
   "metadata": {},
   "source": [
    "箱型图"
   ]
  },
  {
   "cell_type": "code",
   "execution_count": null,
   "metadata": {
    "dotnet_interactive": {
     "language": "csharp"
    }
   },
   "outputs": [],
   "source": [
    "import matplotlib.pyplot  as plt\n",
    "import numpy as np\n",
    "plt.style.use('bmh')\n",
    "#make data\n",
    "np.random.seed(10)\n",
    "D=np.random.normal((3,5,4),(1.23,1.00,1.25),(100,3))\n",
    "#plot\n",
    "fig,ax=plt.subplots()\n",
    "VP=ax.boxplot(D,positions=[2,4,6],widths=1.5,patch_artist=True,\n",
    "                showmeans=False,showfliers=False,\n",
    "                medianprops={'color':'white','linewidth':0.5},\n",
    "                boxprops={'facecolor':'C0','edgecolor':'white','linewidth':0.5},\n",
    "                whiskerprops={'color':'C0','linewidth':1.5},\n",
    "                capprops={'color':'C0','linewidth':1.5})\n",
    "ax.set(\n",
    "        ylim=(0,8),yticks=np.arange(1,8))\n",
    "# ax.set(xlim=(0,8),xticks=np.arange(1,8))\n",
    "plt.show()\n",
    "\n"
   ]
  },
  {
   "cell_type": "markdown",
   "metadata": {},
   "source": [
    "误差棒(errorbar)"
   ]
  },
  {
   "cell_type": "code",
   "execution_count": null,
   "metadata": {
    "dotnet_interactive": {
     "language": "csharp"
    }
   },
   "outputs": [],
   "source": [
    "import matplotlib.pyplot as plt\n",
    "import numpy as np\n",
    "plt.style.use('bmh')\n",
    "#make data \n",
    "np.random.seed(1)\n",
    "x=[2,4,6]\n",
    "y=[3,4,5]\n",
    "yerr=[1,2,1]\n",
    "#plot\n",
    "fig,ax=plt.subplots()\n",
    "ax.errorbar(x,y,yerr,fmt='o',linewidth=2,capsize=6)\n",
    "ax.set(xlim=(0,8),xticks=np.arange(1,8),\n",
    "        ylim=(0,8),yticks=np.arange(1,8))\n",
    "plt.show()"
   ]
  },
  {
   "cell_type": "markdown",
   "metadata": {},
   "source": [
    "提琴图像（violinplot）"
   ]
  },
  {
   "cell_type": "code",
   "execution_count": null,
   "metadata": {
    "dotnet_interactive": {
     "language": "csharp"
    }
   },
   "outputs": [],
   "source": [
    "import matplotlib.pyplot as plt\n",
    "import numpy as np \n",
    "plt.style.use('bmh')\n",
    "#make data\n",
    "np.random.seed(1)\n",
    "D=np.random.normal((3,4,5),(0.75,1.00,0.75),(200,3))\n",
    "#plot\n",
    "fig,ax=plt.subplots()\n",
    "vp=ax.violinplot(D,[2,4,6],widths=2,showmeans=False,showmedians=False,showextrema=False)\n",
    "#STYLING\n",
    "for body in vp['bodies']:\n",
    "    body.set_alpha(0.8),body.set_color('orange')\n",
    "    body.set_edgecolors('red')\n",
    "ax.set(xlim=(0,8),xticks=np.arange(1,8),\n",
    "        ylim=(0,8),yticks=np.arange(1,8))\n",
    "plt.show()\n"
   ]
  },
  {
   "cell_type": "markdown",
   "metadata": {},
   "source": [
    "事件图像（eventplot）,gamma分布"
   ]
  },
  {
   "cell_type": "code",
   "execution_count": null,
   "metadata": {
    "dotnet_interactive": {
     "language": "csharp"
    }
   },
   "outputs": [],
   "source": [
    "import matplotlib.pyplot as plt\n",
    "import numpy as np\n",
    "plt.style.use('bmh')\n",
    "#make data\n",
    "np.random.seed(1)\n",
    "x=[2,4,6]\n",
    "D=np.random.gamma(3,size=(3,100))\n",
    "#plot\n",
    "fig,axs=plt.subplots(2,1)\n",
    "axs[0].eventplot(D,orientation='vertical',lineoffsets=x,linewidth=0.75)\n",
    "axs[0].set(xlim=(0,8),xticks=np.arange(1,8),\n",
    "        ylim=(0,8),yticks=np.arange(1,8))\n",
    "axs[1].eventplot(D,orientation='horizontal',lineoffsets=x,linewidth=0.75)\n",
    "axs[1].set(xlim=(0,8),xticks=np.arange(1,8),\n",
    "        ylim=(0,8),yticks=np.arange(1,8))\n",
    "plt.show()\n"
   ]
  },
  {
   "cell_type": "markdown",
   "metadata": {},
   "source": [
    "hist2d(x,y)"
   ]
  },
  {
   "cell_type": "code",
   "execution_count": null,
   "metadata": {
    "dotnet_interactive": {
     "language": "csharp"
    }
   },
   "outputs": [],
   "source": [
    "import matplotlib.pyplot as plt\n",
    "import numpy as np\n",
    "#make data \n",
    "plt.style.use('_mpl-gallery-nogrid')\n",
    "np.random.seed(1)\n",
    "x=np.random.randn(5000)\n",
    "y=1/2*x+np.random.randn(5000)/5\n",
    "#plot\n",
    "fog,ax=plt.subplots()\n",
    "ax.hist2d(x,y,bins=(np.arange(-3,3,0.1),np.arange(-3,3,0.1)))\n",
    "ax.set(xlim=(-2,2),ylim=(-3,3))\n",
    "\n",
    "plt.show()"
   ]
  },
  {
   "cell_type": "code",
   "execution_count": null,
   "metadata": {
    "dotnet_interactive": {
     "language": "csharp"
    }
   },
   "outputs": [],
   "source": [
    "import matplotlib.pyplot as plt\n",
    "import numpy as np\n",
    "\n",
    "plt.style.use('_mpl-gallery-nogrid')\n",
    "\n",
    "# make data: correlated + noise\n",
    "np.random.seed(1)\n",
    "x = np.random.randn(5000)\n",
    "y = 1.2 * x + np.random.randn(5000) / 3\n",
    "\n",
    "# plot:\n",
    "fig, ax = plt.subplots()\n",
    "\n",
    "ax.hexbin(x, y, gridsize=20)\n",
    "\n",
    "ax.set(xlim=(-2, 2), ylim=(-3, 3))\n",
    "\n",
    "plt.show()"
   ]
  },
  {
   "cell_type": "markdown",
   "metadata": {},
   "source": [
    "饼形图（pie【x】）"
   ]
  },
  {
   "cell_type": "code",
   "execution_count": null,
   "metadata": {
    "dotnet_interactive": {
     "language": "csharp"
    }
   },
   "outputs": [],
   "source": [
    "import matplotlib.pyplot as plt\n",
    "import numpy as np \n",
    "plt.style.use('bmh')\n",
    "#make data \n",
    "x=[1,2,3,4]\n",
    "j=['RdGy_r', 'RdPu', 'RdPu_r']\n",
    "for i in j:\n",
    "        colors=plt.get_cmap(i)(np.linspace(0.2,0.7,len(x)))\n",
    "#plot\n",
    "        fig,ax=plt.subplots()\n",
    "        ax.pie(x,colors=colors,radius=3,center=(4,4),\n",
    "        wedgeprops={'linewidth':1,'edgecolor':'white'},frame=True)\n",
    "        ax.set(xlim=(0,8),xticks=np.arange(1,8),\n",
    "        ylim=(0,8),yticks=np.arange(1,8))\n",
    "plt.show()"
   ]
  },
  {
   "cell_type": "markdown",
   "metadata": {},
   "source": [
    "'Accent', 'Accent_r', 'Blues', 'Blues_r', 'BrBG', 'BrBG_r', 'BuGn', 'BuGn_r', 'BuPu', 'BuPu_r', 'CMRmap', 'CMRmap_r', 'Dark2', 'Dark2_r', 'GnBu', 'GnBu_r', 'Greens', 'Greens_r', 'Greys', 'Greys_r', 'OrRd', 'OrRd_r', 'Oranges', 'Oranges_r', 'PRGn', 'PRGn_r', 'Paired', 'Paired_r', 'Pastel1', 'Pastel1_r', 'Pastel2', 'Pastel2_r', 'PiYG', 'PiYG_r', 'PuBu', 'PuBuGn', 'PuBuGn_r', 'PuBu_r', 'PuOr', 'PuOr_r', 'PuRd', 'PuRd_r', 'Purples', 'Purples_r', 'RdBu', 'RdBu_r', 'RdGy', 'RdGy_r', 'RdPu', 'RdPu_r', 'RdYlBu', 'RdYlBu_r', 'RdYlGn', 'RdYlGn_r', 'Reds', 'Reds_r', 'Set1', 'Set1_r', 'Set2', 'Set2_r', 'Set3', 'Set3_r', 'Spectral', 'Spectral_r', 'Wistia', 'Wistia_r', 'YlGn', 'YlGnBu', 'YlGnBu_r', 'YlGn_r', 'YlOrBr', 'YlOrBr_r', 'YlOrRd', 'YlOrRd_r', 'afmhot', 'afmhot_r', 'autumn', 'autumn_r', 'binary', 'binary_r', 'bone', 'bone_r', 'brg', 'brg_r', 'bwr', 'bwr_r', 'cividis', 'cividis_r', 'cool', 'cool_r', 'coolwarm', 'coolwarm_r', 'copper', 'copper_r', 'cubehelix', 'cubehelix_r', 'flag', 'flag_r', 'gist_earth', 'gist_earth_r', 'gist_gray', 'gist_gray_r', 'gist_heat', 'gist_heat_r', 'gist_ncar', 'gist_ncar_r', 'gist_rainbow', 'gist_rainbow_r', 'gist_stern', 'gist_stern_r', 'gist_yarg', 'gist_yarg_r', 'gnuplot', 'gnuplot2', 'gnuplot2_r', 'gnuplot_r', 'gray', 'gray_r', 'hot', 'hot_r', 'hsv', 'hsv_r', 'inferno', 'inferno_r', 'jet', 'jet_r', 'magma', 'magma_r', 'nipy_spectral', 'nipy_spectral_r', 'ocean', 'ocean_r', 'pink', 'pink_r', 'plasma', 'plasma_r', 'prism', 'prism_r', 'rainbow', 'rainbow_r', 'seismic', 'seismic_r', 'spring', 'spring_r', 'summer', 'summer_r', 'tab10', 'tab10_r', 'tab20', 'tab20_r', 'tab20b', 'tab20b_r', 'tab20c', 'tab20c_r', 'terrain', 'terrain_r', 'turbo', 'turbo_r', 'twilight', 'twilight_r', 'twilight_shifted', 'twilight_shifted_r', 'viridis', 'viridis_r', 'winter', 'winter_r'"
   ]
  },
  {
   "cell_type": "markdown",
   "metadata": {},
   "source": [
    "triplot(x,y)三角"
   ]
  },
  {
   "cell_type": "code",
   "execution_count": null,
   "metadata": {
    "dotnet_interactive": {
     "language": "csharp"
    }
   },
   "outputs": [],
   "source": [
    "import matplotlib.pyplot as plt\n",
    "import numpy as np\n",
    "\n",
    "plt.style.use('_mpl-gallery-nogrid')\n",
    "\n",
    "# make data:\n",
    "np.random.seed(1)\n",
    "x = np.random.uniform(-3, 3, 100)\n",
    "y = np.random.uniform(-3, 3,100)\n",
    "z = (1 - x/2 + x**5 + y**3) * np.exp(-x**2 - y**2)\n",
    "\n",
    "# plot:\n",
    "fig, axs = plt.subplots(3,1)\n",
    "\n",
    "axs[0].triplot(x, y,color='orange')\n",
    "axs[1].triplot(x, y,color='black')\n",
    "axs[2].triplot(x, y,color='blue')\n",
    "ax.set(xlim=(-4, 4), ylim=(-4, 4))\n",
    "\n",
    "plt.show()"
   ]
  },
  {
   "cell_type": "markdown",
   "metadata": {},
   "source": [
    "Examples"
   ]
  },
  {
   "cell_type": "code",
   "execution_count": null,
   "metadata": {
    "dotnet_interactive": {
     "language": "csharp"
    }
   },
   "outputs": [],
   "source": [
    "import matplotlib.pyplot as plt\n",
    "import numpy as np\n",
    "#data\n",
    "N=5\n",
    "menMeans=(20,35,30,35,-27)\n",
    "womenMeans=(25,32,34,20,-25)\n",
    "menStd=(2,3,4,1,2)\n",
    "womenStd=(3,5,2,3,3)\n",
    "ind=np.arange(N)\n",
    "width=0.3\n",
    "\n",
    "fig,ax=plt.subplots()\n",
    "p1=ax.bar(ind,menMeans,width,yerr=menStd,label='Men',color='orange')\n",
    "p2=ax.bar(ind,womenMeans,width,color='pink',\n",
    "            bottom=menMeans,yerr=womenStd,label='Women')\n",
    "ax.axhline(0,color='grey',linewidth=0.8)\n",
    "ax.set_ylabel('Scores')\n",
    "ax.set_title('Scores by group and gender')\n",
    "ax.set_xticks(ind,labels=['G1','G2','G3','G4','G5'])\n",
    "ax.legend()\n",
    "#label with label_type'center'instead of the default \"edge\"\n",
    "ax.bar_label(p1,label_type='center')\n",
    "ax.bar_label(p2,label_type='center')\n",
    "ax.bar_label(p2)\n",
    "plt.show()"
   ]
  },
  {
   "cell_type": "markdown",
   "metadata": {},
   "source": [
    ">>绘制动态图形1"
   ]
  },
  {
   "cell_type": "code",
   "execution_count": null,
   "metadata": {},
   "outputs": [],
   "source": [
    "from cProfile import label\n",
    "import matplotlib.pyplot as plt\n",
    "import numpy as np\n",
    "plt.style.use('bmh')\n",
    "fig,ax=plt.subplots()\n",
    "y1=[]\n",
    "for i in range(50):\n",
    "    y1.append(i)\n",
    "    ax.cla()\n",
    "    ax.bar(y1,label='test',height=y1,width=0.2)\n",
    "    ax.legend()\n",
    "    plt.pause(0.2)"
   ]
  }
 ],
 "metadata": {
  "kernelspec": {
   "display_name": "Python 3.10.5 64-bit",
   "language": "python",
   "name": "python3"
  },
  "language_info": {
   "codemirror_mode": {
    "name": "ipython",
    "version": 3
   },
   "file_extension": ".py",
   "mimetype": "text/x-python",
   "name": "python",
   "nbconvert_exporter": "python",
   "pygments_lexer": "ipython3",
   "version": "3.11.0"
  },
  "orig_nbformat": 4,
  "vscode": {
   "interpreter": {
    "hash": "dc91eaf392cdf59fbb907f442730dfcebe90c4c9ac81fc2197c752ff9fecc8f3"
   }
  }
 },
 "nbformat": 4,
 "nbformat_minor": 2
}
