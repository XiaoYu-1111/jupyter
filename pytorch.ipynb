{
 "cells": [
  {
   "attachments": {},
   "cell_type": "markdown",
   "metadata": {},
   "source": [
    "``Pytorch``\n",
    "---\n",
    "[教程]https://pytorch.apachecn.org/#/docs/1.7/03  \n",
    "[知乎60分钟快速入门]https://zhuanlan.zhihu.com/p/66543791"
   ]
  },
  {
   "cell_type": "code",
   "execution_count": 19,
   "metadata": {},
   "outputs": [
    {
     "name": "stdout",
     "output_type": "stream",
     "text": [
      "2.0.1+cu118\n",
      "True\n",
      "1\n",
      "11.8\n"
     ]
    }
   ],
   "source": [
    "import torch\n",
    "print(torch.__version__)\n",
    "print(torch.cuda.is_available())#是否可用\n",
    "print(torch.cuda.device_count())#数量\n",
    "print(torch.version.cuda) # 查看CUDA的版本号\n",
    "import numpy as np"
   ]
  },
  {
   "cell_type": "code",
   "execution_count": 20,
   "metadata": {},
   "outputs": [
    {
     "name": "stdout",
     "output_type": "stream",
     "text": [
      "Shape of tensor: torch.Size([3, 4])\n",
      "Datatype of tensor: torch.float32\n",
      "Device tensor is stored on: cpu\n",
      "Device tensor is stored on: cuda:0\n"
     ]
    }
   ],
   "source": [
    "tensor = torch.rand(3,4)\n",
    "\n",
    "print(f\"Shape of tensor: {tensor.shape}\")\n",
    "print(f\"Datatype of tensor: {tensor.dtype}\")\n",
    "print(f\"Device tensor is stored on: {tensor.device}\")\n",
    "# 判断当前环境GPU是否可用, 然后将tensor导入GPU内运行\n",
    "if torch.cuda.is_available():\n",
    "    tensor = tensor.to('cuda')\n",
    "print(f\"Device tensor is stored on: {tensor.device}\")"
   ]
  },
  {
   "attachments": {},
   "cell_type": "markdown",
   "metadata": {},
   "source": [
    "# 张量"
   ]
  },
  {
   "attachments": {},
   "cell_type": "markdown",
   "metadata": {},
   "source": [
    "> 1.1声明和定义"
   ]
  },
  {
   "cell_type": "code",
   "execution_count": 21,
   "metadata": {},
   "outputs": [
    {
     "name": "stdout",
     "output_type": "stream",
     "text": [
      "tensor([[1, 2],\n",
      "        [3, 4]])\n",
      "tensor([[1, 1],\n",
      "        [1, 1]]) tensor([[0.5616, 0.5374],\n",
      "        [0.4436, 0.6336]])\n",
      "Random Tensor: \n",
      " tensor([[1.9051e-01, 3.3383e-01, 3.6365e-01],\n",
      "        [1.5209e-01, 8.7607e-01, 4.7404e-04]]) \n",
      "\n",
      "Ones Tensor: \n",
      " tensor([[1., 1., 1.],\n",
      "        [1., 1., 1.]]) \n",
      "\n",
      "Zeros Tensor: \n",
      " tensor([[0., 0., 0.],\n",
      "        [0., 0., 0.]])\n",
      "torch.Size([2, 3]) torch.float32 cuda:0\n",
      "torch.Size([2, 3])\n"
     ]
    }
   ],
   "source": [
    "data=[[1,2],[3,4]]\n",
    "x_data=torch.tensor(data)#数据张量化\n",
    "print(x_data)\n",
    "x_ones=torch.ones_like(x_data)#生成X_data形状的tensor全为1的数据\n",
    "x_rand=torch.rand_like(x_data,dtype=torch.float)\n",
    "print(x_ones,x_rand)\n",
    "#指定数组维度生成张量\n",
    "shape=(2,3,)\n",
    "rand_tensor=torch.rand(shape)\n",
    "ones_tensor=torch.ones(shape)\n",
    "zeros_tensor=torch.zeros(shape)\n",
    "#张量的属性\n",
    "print(f\"Random Tensor: \\n {rand_tensor} \\n\")\n",
    "print(f\"Ones Tensor: \\n {ones_tensor} \\n\")\n",
    "print(f\"Zeros Tensor: \\n {zeros_tensor}\")\n",
    "ones_tensor = ones_tensor.to('cuda')\n",
    "print(ones_tensor.shape,ones_tensor.dtype,ones_tensor.device)#shape、数据类型、存储设备\n",
    "print(ones_tensor.size())\n"
   ]
  },
  {
   "attachments": {},
   "cell_type": "markdown",
   "metadata": {},
   "source": [
    "> 1.2操作(operations)"
   ]
  },
  {
   "cell_type": "code",
   "execution_count": 22,
   "metadata": {},
   "outputs": [
    {
     "name": "stdout",
     "output_type": "stream",
     "text": [
      "tensor([5.5000, 3.0000]) tensor([[1., 1., 1.],\n",
      "        [1., 1., 1.],\n",
      "        [1., 1., 1.],\n",
      "        [1., 1., 1.],\n",
      "        [1., 1., 1.]], dtype=torch.float64) tensor([[0.0787, 0.2334, 0.3368],\n",
      "        [0.9869, 0.5859, 0.2170],\n",
      "        [0.0047, 0.1703, 0.0897],\n",
      "        [0.7723, 0.1253, 0.5208],\n",
      "        [0.7332, 0.9507, 0.6026]])\n",
      "tensor3+tensor4 tensor([[1.0787, 1.2334, 1.3368],\n",
      "        [1.9869, 1.5859, 1.2170],\n",
      "        [1.0047, 1.1703, 1.0897],\n",
      "        [1.7723, 1.1253, 1.5208],\n",
      "        [1.7332, 1.9507, 1.6026]], dtype=torch.float64)\n",
      "tensor3+tensor4= tensor([[1.0787, 1.2334, 1.3368],\n",
      "        [1.9869, 1.5859, 1.2170],\n",
      "        [1.0047, 1.1703, 1.0897],\n",
      "        [1.7723, 1.1253, 1.5208],\n",
      "        [1.7332, 1.9507, 1.6026]], dtype=torch.float64)\n",
      "add result= tensor([[1.0787, 1.2334, 1.3368],\n",
      "        [1.9869, 1.5859, 1.2170],\n",
      "        [1.0047, 1.1703, 1.0897],\n",
      "        [1.7723, 1.1253, 1.5208],\n",
      "        [1.7332, 1.9507, 1.6026]])\n",
      "tensor3= tensor([[1.0787, 1.2334, 1.3368],\n",
      "        [1.9869, 1.5859, 1.2170],\n",
      "        [1.0047, 1.1703, 1.0897],\n",
      "        [1.7723, 1.1253, 1.5208],\n",
      "        [1.7332, 1.9507, 1.6026]], dtype=torch.float64)\n"
     ]
    }
   ],
   "source": [
    "tensor1=torch.tensor([5.5,3])\n",
    "tensor3=tensor1.new_ones(5,3,dtype=torch.double)\n",
    "tensor4=torch.rand(5,3)\n",
    "print(tensor1,tensor3,tensor4)\n",
    "\n",
    "print('tensor3+tensor4',tensor3+tensor4)\n",
    "print('tensor3+tensor4=',torch.add(tensor3,tensor4))\n",
    "result=torch.empty(5,3)\n",
    "torch.add(tensor3,tensor4,out=result)\n",
    "print('add result=',result)\n",
    "tensor3.add_(tensor4)#直接在tensor3上加\n",
    "print('tensor3=',tensor3)"
   ]
  },
  {
   "cell_type": "code",
   "execution_count": 23,
   "metadata": {},
   "outputs": [
    {
     "name": "stdout",
     "output_type": "stream",
     "text": [
      "tensor([1.3368, 1.2170, 1.0897, 1.5208, 1.6026], dtype=torch.float64)\n"
     ]
    }
   ],
   "source": [
    "print(tensor3[:,2])#index=0 1 2"
   ]
  },
  {
   "cell_type": "code",
   "execution_count": 24,
   "metadata": {},
   "outputs": [
    {
     "name": "stdout",
     "output_type": "stream",
     "text": [
      "tensor([[ 1.1328,  0.8003,  0.8857, -0.6657],\n",
      "        [-0.8999,  0.8548,  0.3808, -0.8073],\n",
      "        [ 0.7468,  0.5910, -0.3730, -0.2209],\n",
      "        [ 2.0584, -0.2445,  1.0662,  0.2919]])\n",
      "torch.Size([4, 4]) torch.Size([16]) torch.Size([2, 8])\n",
      "x: tensor([0.8131])\n",
      "0.8131190538406372\n"
     ]
    }
   ],
   "source": [
    "#对tensor尺寸的修改\n",
    "x=torch.randn(4,4)\n",
    "print(x)\n",
    "y=x.view(16)\n",
    "z=x.view(-1,8)\n",
    "print(x.size(),y.size(),z.size())\n",
    "x=torch.randn(1)\n",
    "print('x:',x) \n",
    "print(x.item())"
   ]
  },
  {
   "attachments": {},
   "cell_type": "markdown",
   "metadata": {},
   "source": [
    ">1.3tensor与numpy数组的互换"
   ]
  },
  {
   "cell_type": "code",
   "execution_count": 25,
   "metadata": {},
   "outputs": [
    {
     "name": "stdout",
     "output_type": "stream",
     "text": [
      "tensor([1., 1., 1., 1., 1.])\n",
      "[1. 1. 1. 1. 1.]\n",
      "tensor([2., 2., 2., 2., 2.])\n",
      "[2. 2. 2. 2. 2.]\n",
      "/////\n",
      "[2. 2. 2. 2. 2.]\n",
      "tensor([2., 2., 2., 2., 2.], dtype=torch.float64)\n"
     ]
    }
   ],
   "source": [
    "a=torch.ones(5)\n",
    "b=a.numpy()#tensor变numpy数组\n",
    "print(a)\n",
    "print(b)\n",
    "\n",
    "a.add_(1)#共享内存空间\n",
    "print(a)\n",
    "print(b)\n",
    "print('/////')\n",
    "#numpy数组转换为tensor\n",
    "import numpy as np\n",
    "a=np.ones(5)\n",
    "b=torch.from_numpy(a)\n",
    "np.add(a,1,out=a)\n",
    "print(a)\n",
    "print(b)"
   ]
  },
  {
   "attachments": {},
   "cell_type": "markdown",
   "metadata": {},
   "source": [
    ">1.4 cuda张量"
   ]
  },
  {
   "cell_type": "code",
   "execution_count": 26,
   "metadata": {},
   "outputs": [
    {
     "name": "stdout",
     "output_type": "stream",
     "text": [
      "tensor([1.8131], device='cuda:0')\n",
      "tensor([1.8131], dtype=torch.float64)\n"
     ]
    }
   ],
   "source": [
    "if torch.cuda.is_available():\n",
    "    device=torch.device('cuda')\n",
    "    y=torch.ones_like(x,device=device)\n",
    "    x=x.to(device)\n",
    "    z=x+y\n",
    "    print(z)\n",
    "    print(z.to('cpu',torch.double))"
   ]
  },
  {
   "attachments": {},
   "cell_type": "markdown",
   "metadata": {},
   "source": [
    "2.autograd"
   ]
  },
  {
   "attachments": {},
   "cell_type": "markdown",
   "metadata": {},
   "source": [
    "2.1张量"
   ]
  },
  {
   "cell_type": "code",
   "execution_count": 27,
   "metadata": {},
   "outputs": [
    {
     "name": "stdout",
     "output_type": "stream",
     "text": [
      "tensor([[1., 1.],\n",
      "        [1., 1.]], requires_grad=True)\n",
      "tensor([[3., 3.],\n",
      "        [3., 3.]], grad_fn=<AddBackward0>)\n",
      "<AddBackward0 object at 0x0000027F0A91E1F0>\n",
      "z= tensor([[27., 27.],\n",
      "        [27., 27.]], grad_fn=<MulBackward0>)\n",
      "out= tensor(27., grad_fn=<MeanBackward0>)\n"
     ]
    }
   ],
   "source": [
    "import torch\n",
    "x=torch.ones(2,2,requires_grad=True)\n",
    "print(x)\n",
    "y=x+2\n",
    "print(y)\n",
    "print(y.grad_fn)\n",
    "z=y*y*3\n",
    "out=z.mean()\n",
    "print('z=',z)\n",
    "print('out=',out)"
   ]
  },
  {
   "cell_type": "code",
   "execution_count": 28,
   "metadata": {},
   "outputs": [
    {
     "name": "stdout",
     "output_type": "stream",
     "text": [
      "False\n",
      "True\n",
      "<SumBackward0 object at 0x0000027F0A91E850>\n"
     ]
    }
   ],
   "source": [
    "a=torch.randn(2,2)\n",
    "a=((a*3)/(a-1))\n",
    "print(a.requires_grad)\n",
    "a.requires_grad_(True)#将梯度属性打开\n",
    "print(a.requires_grad)\n",
    "b=(a*a).sum()\n",
    "print(b.grad_fn)"
   ]
  },
  {
   "attachments": {},
   "cell_type": "markdown",
   "metadata": {},
   "source": [
    "2.2梯度"
   ]
  },
  {
   "cell_type": "code",
   "execution_count": 29,
   "metadata": {},
   "outputs": [
    {
     "name": "stdout",
     "output_type": "stream",
     "text": [
      "tensor([[4.5000, 4.5000],\n",
      "        [4.5000, 4.5000]])\n"
     ]
    }
   ],
   "source": [
    "out.backward()#out.backeard(torch.tensor(1.))\n",
    "print(x.grad)"
   ]
  },
  {
   "attachments": {},
   "cell_type": "markdown",
   "metadata": {},
   "source": [
    "> 3 神经网络"
   ]
  },
  {
   "attachments": {},
   "cell_type": "markdown",
   "metadata": {},
   "source": [
    "3.1定义神经网络"
   ]
  },
  {
   "cell_type": "code",
   "execution_count": 30,
   "metadata": {},
   "outputs": [
    {
     "name": "stdout",
     "output_type": "stream",
     "text": [
      "Net(\n",
      "  (conv1): Conv2d(1, 6, kernel_size=(5, 5), stride=(1, 1))\n",
      "  (conv2): Conv2d(6, 16, kernel_size=(5, 5), stride=(1, 1))\n",
      "  (fc1): Linear(in_features=400, out_features=120, bias=True)\n",
      "  (fc2): Linear(in_features=120, out_features=84, bias=True)\n",
      "  (fc3): Linear(in_features=84, out_features=10, bias=True)\n",
      ")\n"
     ]
    }
   ],
   "source": [
    "import torch\n",
    "import torch.nn as nn\n",
    "import torch.nn.functional as F\n",
    "#5层神经网络，包含两层卷积层。和三层全连接层  \n",
    "class Net(nn.Module):\n",
    "    \n",
    "    def __init__(self):\n",
    "        super(Net,self).__init__()\n",
    "        #输入图像是单通道，conv1 kernel size=5*5 输出通道6\n",
    "        self.conv1=nn.Conv2d(1,6,5)\n",
    "        #conv2 kernel size=5*5,输出通道16\n",
    "        self.conv2=nn.Conv2d(6,16,5)\n",
    "        #全连接层\n",
    "        self.fc1=nn.Linear(16*5*5,120)\n",
    "        self.fc2=nn.Linear(120,84)\n",
    "        self.fc3=nn.Linear(84,10)\n",
    "        \n",
    "    def forward(self,x):\n",
    "            #max-pooling 采用一个（2,2）的滑动窗口\n",
    "            x=F.max_pool2d(F.relu(self.conv1(x)),(2,2))\n",
    "            #核的大小是方形的话，可仅定义一个数字，如（2,2）用2即可\n",
    "            x=F.max_pool2d(F.relu(self.conv2(x)),2)\n",
    "            x=x.view(-1,self.num_flat_features(x))\n",
    "            x=F.relu(self.fc1(x))\n",
    "            x=F.relu(self.fc2(x))\n",
    "            x=self.fc3(x)\n",
    "            return x\n",
    "    def num_flat_features(self,x):\n",
    "            #除了batch维度以外的所有维度\n",
    "            size=x.size()[1:]\n",
    "            num_features=1\n",
    "            for s in size:\n",
    "                num_features*=s\n",
    "            return num_features\n",
    "net=Net()\n",
    "print(net)"
   ]
  },
  {
   "cell_type": "code",
   "execution_count": 31,
   "metadata": {},
   "outputs": [
    {
     "name": "stdout",
     "output_type": "stream",
     "text": [
      "参数数量： 10\n",
      "第一个参数的大小： torch.Size([6, 1, 5, 5])\n",
      "tensor([[ 0.0070, -0.0933,  0.1652, -0.1205,  0.1121,  0.0911, -0.1903,  0.0799,\n",
      "          0.1664,  0.0845]], grad_fn=<AddmmBackward0>)\n"
     ]
    }
   ],
   "source": [
    "# sourcery skip: avoid-builtin-shadow\n",
    "params=list(net.parameters())\n",
    "print('参数数量：',len(params))\n",
    "#conv1.weight\n",
    "print('第一个参数的大小：',params[0].size())\n",
    "\n",
    "#随机定义一个变量输入网格\n",
    "input=torch.randn(1,1,32,32)\n",
    "out=net(input)\n",
    "print(out)\n",
    "#反向传播需要先清空梯度缓存，并计算随机梯度进行反向传播\n",
    "net.zero_grad()\n",
    "out.backward(torch.randn(1,10))"
   ]
  },
  {
   "attachments": {},
   "cell_type": "markdown",
   "metadata": {},
   "source": [
    "3.2损失函数"
   ]
  },
  {
   "cell_type": "code",
   "execution_count": 32,
   "metadata": {},
   "outputs": [
    {
     "name": "stdout",
     "output_type": "stream",
     "text": [
      "tensor(1.1539, grad_fn=<MseLossBackward0>)\n"
     ]
    }
   ],
   "source": [
    "output=net(input)\n",
    "\n",
    "target=torch.randn(10)#建立伪标签\n",
    "target=target.view(1,-1)#调整大小\n",
    "criterion=nn.MSELoss()\n",
    "loss=criterion(output,target)\n",
    "print(loss)"
   ]
  },
  {
   "attachments": {},
   "cell_type": "markdown",
   "metadata": {},
   "source": [
    "grad_fn显示张量运算怎么来的"
   ]
  },
  {
   "cell_type": "code",
   "execution_count": 33,
   "metadata": {},
   "outputs": [
    {
     "name": "stdout",
     "output_type": "stream",
     "text": [
      "<MseLossBackward0 object at 0x0000027F446E11F0>\n",
      "<AddBackward0 object at 0x0000027F446E1070>\n"
     ]
    }
   ],
   "source": [
    "print(loss.grad_fn)\n",
    "a=torch.tensor([3.0,4]);a.requires_grad_(True)#将梯度属性打开\n",
    "b=torch.tensor([5,6.0]);b.requires_grad_(True)#将梯度属性打开\n",
    "c=a+b\n",
    "a,b,c\n",
    "print(c.grad_fn)"
   ]
  },
  {
   "attachments": {},
   "cell_type": "markdown",
   "metadata": {},
   "source": [
    "input -> conv2d -> relu -> maxpool2d -> conv2d -> relu -> maxpool2d  \n",
    "-> view -> linear -> relu -> linear -> relu -> linear  \n",
    "-> MSELoss  \n",
    "-> loss"
   ]
  },
  {
   "attachments": {},
   "cell_type": "markdown",
   "metadata": {},
   "source": [
    "3.3 反向传播  \n",
    "只需调动loss.backward()即可，但需要先清空当前梯度缓存"
   ]
  },
  {
   "cell_type": "code",
   "execution_count": 34,
   "metadata": {},
   "outputs": [
    {
     "name": "stdout",
     "output_type": "stream",
     "text": [
      "conv1.bias.grad before backward None\n",
      "conv1.bias.grad after backward: tensor([ 0.0118,  0.0081,  0.0193, -0.0096,  0.0021,  0.0048])\n"
     ]
    }
   ],
   "source": [
    "net.zero_grad()\n",
    "print('conv1.bias.grad before backward',net.conv1.bias.grad)\n",
    "loss.backward()\n",
    "print('conv1.bias.grad after backward:',net.conv1.bias.grad)"
   ]
  },
  {
   "attachments": {},
   "cell_type": "markdown",
   "metadata": {},
   "source": [
    "3.4更新权重"
   ]
  },
  {
   "cell_type": "code",
   "execution_count": 35,
   "metadata": {},
   "outputs": [],
   "source": [
    "#weight=weight-learning_rate*gradient\n",
    "# 简单实现权重的更新例子\n",
    "learning_rate = 0.01\n",
    "for f in net.parameters():\n",
    "    f.data.sub_(f.grad.data * learning_rate)"
   ]
  },
  {
   "cell_type": "code",
   "execution_count": 36,
   "metadata": {},
   "outputs": [],
   "source": [
    "import torch.optim as optim#优化算法实现权重更新\n",
    "# 创建优化器\n",
    "optimizer = optim.SGD(net.parameters(), lr=0.01)\n",
    "\n",
    "# 在训练过程中执行下列操作\n",
    "optimizer.zero_grad() # 清空梯度缓存\n",
    "output = net(input)\n",
    "loss = criterion(output, target)\n",
    "loss.backward()\n",
    "# 更新权重\n",
    "optimizer.step()"
   ]
  },
  {
   "attachments": {},
   "cell_type": "markdown",
   "metadata": {},
   "source": [
    "> 训练分类器"
   ]
  },
  {
   "attachments": {},
   "cell_type": "markdown",
   "metadata": {},
   "source": [
    "4.1 训练数据"
   ]
  },
  {
   "cell_type": "code",
   "execution_count": 41,
   "metadata": {},
   "outputs": [],
   "source": [
    "import torch\n",
    "import torchvision\n",
    "import torchvision.transforms as transforms\n"
   ]
  },
  {
   "cell_type": "code",
   "execution_count": 46,
   "metadata": {},
   "outputs": [
    {
     "name": "stdout",
     "output_type": "stream",
     "text": [
      "Files already downloaded and verified\n",
      "Files already downloaded and verified\n"
     ]
    }
   ],
   "source": [
    "transform = transforms.Compose(\n",
    "    [transforms.ToTensor(),\n",
    "        transforms.Normalize((0.5, 0.5, 0.5), (0.5, 0.5, 0.5))])\n",
    "\n",
    "trainset = torchvision.datasets.CIFAR10(root='./data', train=True,\n",
    "                                        download=True, transform=transform)\n",
    "trainloader = torch.utils.data.DataLoader(trainset, batch_size=4,\n",
    "                                            shuffle=True, num_workers=2)\n",
    "\n",
    "testset = torchvision.datasets.CIFAR10(root='./data', train=False,\n",
    "                                        download=True, transform=transform)\n",
    "testloader = torch.utils.data.DataLoader(testset, batch_size=4,\n",
    "                                            shuffle=False, num_workers=2)\n",
    "\n",
    "classes = ('plane', 'car', 'bird', 'cat',\n",
    "            'deer', 'dog', 'frog', 'horse', 'ship', 'truck')\n",
    "\n"
   ]
  },
  {
   "cell_type": "code",
   "execution_count": 49,
   "metadata": {},
   "outputs": [
    {
     "data": {
      "image/png": "[encoded data removed]",
      "text/plain": [
       "<Figure size 640x480 with 1 Axes>"
      ]
     },
     "metadata": {},
     "output_type": "display_data"
    },
    {
     "name": "stdout",
     "output_type": "stream",
     "text": [
      "  cat  frog  deer   car\n"
     ]
    }
   ],
   "source": [
    "import matplotlib.pyplot as plt\n",
    "import numpy as np\n",
    "\n",
    "# functions to show an image\n",
    "\n",
    "def imshow(img):\n",
    "    img = img / 2 + 0.5     # unnormalize\n",
    "    npimg = img.numpy()\n",
    "    plt.imshow(np.transpose(npimg, (1, 2, 0)))\n",
    "    plt.show()\n",
    "\n",
    "# get some random training images\n",
    "dataiter = iter(trainloader)\n",
    "images, labels = next(dataiter)\n",
    "\n",
    "# show images\n",
    "imshow(torchvision.utils.make_grid(images))\n",
    "# print labels\n",
    "print(' '.join('%5s' % classes[labels[j]] for j in range(4)))"
   ]
  },
  {
   "attachments": {},
   "cell_type": "markdown",
   "metadata": {},
   "source": [
    "2.定义卷积神经网络"
   ]
  },
  {
   "cell_type": "code",
   "execution_count": null,
   "metadata": {},
   "outputs": [],
   "source": [
    "import torch.nn as nn\n",
    "import torch.nn.functional as F\n",
    "class Net(nn.Model):\n",
    "    def __init__(self):\n",
    "        super(Net,self).__init__()\n",
    "        self.conv1=nn.Conv2d(3,6,5)#二维卷积第1层\n",
    "        self.pool=nn.MaxPool2d(2,2)#池化层\n",
    "        self.conv1=nn.Conv2d(6,16,5)#二维卷积第2层\n",
    "        self.fc1=nn.Linear(16*5*5,120)#全连接层\n",
    "        self.fc2=nn.Linear(120,84)\n",
    "        self.fc3=nn.Linear(84,10)\n",
    "    def forward(self,x):\n",
    "        x=self.pool(F.relu(self.conv1(x)))\n",
    "        x=self.pool(F.relu(self.conv2(x)))\n",
    "        x=x.view(-1,16*5*5)\n",
    "        x=F.relu(self.fc1(x))\n",
    "        x=F.relu(self.fc2(x))\n",
    "        x=self.fc3(x)\n",
    "        return x\n",
    "net=Net()"
   ]
  },
  {
   "attachments": {},
   "cell_type": "markdown",
   "metadata": {},
   "source": [
    "3.定义损失函数及优化器"
   ]
  },
  {
   "cell_type": "code",
   "execution_count": 51,
   "metadata": {},
   "outputs": [],
   "source": [
    "import torch.optim as optim\n",
    "criterion =nn.CrossEntropyLoss()\n",
    "optimizer=optim.SGD(net.parameters(),lr=0.001,momentum=0.9)\n"
   ]
  }
 ],
 "metadata": {
  "kernelspec": {
   "display_name": "Python 3",
   "language": "python",
   "name": "python3"
  },
  "language_info": {
   "codemirror_mode": {
    "name": "ipython",
    "version": 3
   },
   "file_extension": ".py",
   "mimetype": "text/x-python",
   "name": "python",
   "nbconvert_exporter": "python",
   "pygments_lexer": "ipython3",
   "version": "3.9.10"
  },
  "orig_nbformat": 4
 },
 "nbformat": 4,
 "nbformat_minor": 2
}
